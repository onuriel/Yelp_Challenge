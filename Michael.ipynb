{
 "cells": [
  {
   "cell_type": "code",
   "execution_count": 4,
   "metadata": {},
   "outputs": [],
   "source": [
    "from __future__ import print_function\n",
    "import pandas as pd\n",
    "import numpy as np\n",
    "import math\n",
    "import sqlite3\n",
    "import matplotlib.pyplot as plt\n",
    "from collections import OrderedDict"
   ]
  },
  {
   "cell_type": "code",
   "execution_count": 5,
   "metadata": {
    "scrolled": false
   },
   "outputs": [],
   "source": [
    "data_user = pd.read_json(\"dataset/user.json\", lines=True)"
   ]
  },
  {
   "cell_type": "code",
   "execution_count": 6,
   "metadata": {},
   "outputs": [
    {
     "data": {
      "text/html": [
       "<div>\n",
       "<style scoped>\n",
       "    .dataframe tbody tr th:only-of-type {\n",
       "        vertical-align: middle;\n",
       "    }\n",
       "\n",
       "    .dataframe tbody tr th {\n",
       "        vertical-align: top;\n",
       "    }\n",
       "\n",
       "    .dataframe thead th {\n",
       "        text-align: right;\n",
       "    }\n",
       "</style>\n",
       "<table border=\"1\" class=\"dataframe\">\n",
       "  <thead>\n",
       "    <tr style=\"text-align: right;\">\n",
       "      <th></th>\n",
       "      <th>average_stars</th>\n",
       "      <th>compliment_cool</th>\n",
       "      <th>compliment_cute</th>\n",
       "      <th>compliment_funny</th>\n",
       "      <th>compliment_hot</th>\n",
       "      <th>compliment_list</th>\n",
       "      <th>compliment_more</th>\n",
       "      <th>compliment_note</th>\n",
       "      <th>compliment_photos</th>\n",
       "      <th>compliment_plain</th>\n",
       "      <th>...</th>\n",
       "      <th>cool</th>\n",
       "      <th>elite</th>\n",
       "      <th>fans</th>\n",
       "      <th>friends</th>\n",
       "      <th>funny</th>\n",
       "      <th>name</th>\n",
       "      <th>review_count</th>\n",
       "      <th>useful</th>\n",
       "      <th>user_id</th>\n",
       "      <th>yelping_since</th>\n",
       "    </tr>\n",
       "  </thead>\n",
       "  <tbody>\n",
       "    <tr>\n",
       "      <th>0</th>\n",
       "      <td>3.80</td>\n",
       "      <td>5174</td>\n",
       "      <td>284</td>\n",
       "      <td>5174</td>\n",
       "      <td>5175</td>\n",
       "      <td>78</td>\n",
       "      <td>299</td>\n",
       "      <td>1435</td>\n",
       "      <td>7829</td>\n",
       "      <td>7397</td>\n",
       "      <td>...</td>\n",
       "      <td>16856</td>\n",
       "      <td>[2014, 2016, 2013, 2011, 2012, 2015, 2010, 2017]</td>\n",
       "      <td>209</td>\n",
       "      <td>[M19NwFwAXKRZzt8koF11hQ, QRcMZ8pJJBBZaKubHOoMD...</td>\n",
       "      <td>16605</td>\n",
       "      <td>Cin</td>\n",
       "      <td>272</td>\n",
       "      <td>17019</td>\n",
       "      <td>lsSiIjAKVl-QRxKjRErBeg</td>\n",
       "      <td>2010-07-13</td>\n",
       "    </tr>\n",
       "    <tr>\n",
       "      <th>1</th>\n",
       "      <td>3.94</td>\n",
       "      <td>1556</td>\n",
       "      <td>211</td>\n",
       "      <td>1556</td>\n",
       "      <td>1285</td>\n",
       "      <td>101</td>\n",
       "      <td>134</td>\n",
       "      <td>1295</td>\n",
       "      <td>162</td>\n",
       "      <td>2134</td>\n",
       "      <td>...</td>\n",
       "      <td>40110</td>\n",
       "      <td>[2014, 2017, 2011, 2012, 2015, 2009, 2013, 200...</td>\n",
       "      <td>835</td>\n",
       "      <td>[eoSSJzdprj3jxXyi94vDXg, QF0urZa-0bxga17ZeY-9l...</td>\n",
       "      <td>10882</td>\n",
       "      <td>Andrea</td>\n",
       "      <td>2559</td>\n",
       "      <td>83681</td>\n",
       "      <td>om5ZiponkpRqUNa3pVPiRg</td>\n",
       "      <td>2006-01-18</td>\n",
       "    </tr>\n",
       "    <tr>\n",
       "      <th>2</th>\n",
       "      <td>4.72</td>\n",
       "      <td>15</td>\n",
       "      <td>1</td>\n",
       "      <td>15</td>\n",
       "      <td>5</td>\n",
       "      <td>0</td>\n",
       "      <td>1</td>\n",
       "      <td>11</td>\n",
       "      <td>8</td>\n",
       "      <td>20</td>\n",
       "      <td>...</td>\n",
       "      <td>55</td>\n",
       "      <td>[]</td>\n",
       "      <td>17</td>\n",
       "      <td>[Oa84FFGBw1axX8O6uDkmqg, SRcWERSl4rhm-Bz9zN_J8...</td>\n",
       "      <td>4</td>\n",
       "      <td>Gabe</td>\n",
       "      <td>277</td>\n",
       "      <td>45</td>\n",
       "      <td>-lGwMGHMC_XihFJNKCJNRg</td>\n",
       "      <td>2014-10-31</td>\n",
       "    </tr>\n",
       "    <tr>\n",
       "      <th>3</th>\n",
       "      <td>3.76</td>\n",
       "      <td>9</td>\n",
       "      <td>0</td>\n",
       "      <td>9</td>\n",
       "      <td>1</td>\n",
       "      <td>0</td>\n",
       "      <td>1</td>\n",
       "      <td>4</td>\n",
       "      <td>1</td>\n",
       "      <td>11</td>\n",
       "      <td>...</td>\n",
       "      <td>4</td>\n",
       "      <td>[2016, 2017]</td>\n",
       "      <td>11</td>\n",
       "      <td>[96DJovjKAtExnyBZRfniPQ, Djczq-bRn761U4FW77NUt...</td>\n",
       "      <td>4</td>\n",
       "      <td>Leah</td>\n",
       "      <td>436</td>\n",
       "      <td>15</td>\n",
       "      <td>D-ydMTPGWXTVm4_jjp0k9g</td>\n",
       "      <td>2013-04-01</td>\n",
       "    </tr>\n",
       "    <tr>\n",
       "      <th>4</th>\n",
       "      <td>4.23</td>\n",
       "      <td>276</td>\n",
       "      <td>0</td>\n",
       "      <td>276</td>\n",
       "      <td>59</td>\n",
       "      <td>0</td>\n",
       "      <td>8</td>\n",
       "      <td>51</td>\n",
       "      <td>169</td>\n",
       "      <td>386</td>\n",
       "      <td>...</td>\n",
       "      <td>6006</td>\n",
       "      <td>[2017, 2016]</td>\n",
       "      <td>49</td>\n",
       "      <td>[iN0A6QIrEFYoSGHFaknh8Q, B2HDoWNIzLlon0IhS1cmD...</td>\n",
       "      <td>360</td>\n",
       "      <td>Juan</td>\n",
       "      <td>921</td>\n",
       "      <td>9152</td>\n",
       "      <td>PcvbBOCOcs6_suRDH7TSTg</td>\n",
       "      <td>2012-08-16</td>\n",
       "    </tr>\n",
       "  </tbody>\n",
       "</table>\n",
       "<p>5 rows × 22 columns</p>\n",
       "</div>"
      ],
      "text/plain": [
       "   average_stars  compliment_cool  compliment_cute  compliment_funny  \\\n",
       "0           3.80             5174              284              5174   \n",
       "1           3.94             1556              211              1556   \n",
       "2           4.72               15                1                15   \n",
       "3           3.76                9                0                 9   \n",
       "4           4.23              276                0               276   \n",
       "\n",
       "   compliment_hot  compliment_list  compliment_more  compliment_note  \\\n",
       "0            5175               78              299             1435   \n",
       "1            1285              101              134             1295   \n",
       "2               5                0                1               11   \n",
       "3               1                0                1                4   \n",
       "4              59                0                8               51   \n",
       "\n",
       "   compliment_photos  compliment_plain      ...         cool  \\\n",
       "0               7829              7397      ...        16856   \n",
       "1                162              2134      ...        40110   \n",
       "2                  8                20      ...           55   \n",
       "3                  1                11      ...            4   \n",
       "4                169               386      ...         6006   \n",
       "\n",
       "                                               elite  fans  \\\n",
       "0   [2014, 2016, 2013, 2011, 2012, 2015, 2010, 2017]   209   \n",
       "1  [2014, 2017, 2011, 2012, 2015, 2009, 2013, 200...   835   \n",
       "2                                                 []    17   \n",
       "3                                       [2016, 2017]    11   \n",
       "4                                       [2017, 2016]    49   \n",
       "\n",
       "                                             friends  funny    name  \\\n",
       "0  [M19NwFwAXKRZzt8koF11hQ, QRcMZ8pJJBBZaKubHOoMD...  16605     Cin   \n",
       "1  [eoSSJzdprj3jxXyi94vDXg, QF0urZa-0bxga17ZeY-9l...  10882  Andrea   \n",
       "2  [Oa84FFGBw1axX8O6uDkmqg, SRcWERSl4rhm-Bz9zN_J8...      4    Gabe   \n",
       "3  [96DJovjKAtExnyBZRfniPQ, Djczq-bRn761U4FW77NUt...      4    Leah   \n",
       "4  [iN0A6QIrEFYoSGHFaknh8Q, B2HDoWNIzLlon0IhS1cmD...    360    Juan   \n",
       "\n",
       "   review_count useful                 user_id  yelping_since  \n",
       "0           272  17019  lsSiIjAKVl-QRxKjRErBeg     2010-07-13  \n",
       "1          2559  83681  om5ZiponkpRqUNa3pVPiRg     2006-01-18  \n",
       "2           277     45  -lGwMGHMC_XihFJNKCJNRg     2014-10-31  \n",
       "3           436     15  D-ydMTPGWXTVm4_jjp0k9g     2013-04-01  \n",
       "4           921   9152  PcvbBOCOcs6_suRDH7TSTg     2012-08-16  \n",
       "\n",
       "[5 rows x 22 columns]"
      ]
     },
     "execution_count": 6,
     "metadata": {},
     "output_type": "execute_result"
    }
   ],
   "source": [
    "data_user.head()"
   ]
  },
  {
   "cell_type": "markdown",
   "metadata": {},
   "source": [
    "Since our data contains a lot of information we are currently not intrested in, let's get rid of some of it.  "
   ]
  },
  {
   "cell_type": "markdown",
   "metadata": {},
   "source": [
    "# Fans\n",
    "\n",
    "After looking at the Yelp dataset, one thing really cought our eyes. While Yelp is primely  a crowd-sourced reviews about local businesses, we were very suprised to see under the user dataset a column of \"Fans\", as if Yelp is some social media platform. We decicded to try to understand why someone would have many fans, or what would make someone want to be someone else's fan.\n",
    "\n",
    "Our hypotheses is that if one's rating is close to the actual rating this would be a reason to be his or hers fan, meaning that this user is a good reviewer. So we are expecting to see a positive correlation between the number of fans and how close the user's rating is to the actual rating of the business\n",
    "\n",
    "Since our dataset is very large so we will pick the data we are intrested in. Also, we are going to look at users with more than 10 fans, any number less than that is just simply insignificant"
   ]
  },
  {
   "cell_type": "code",
   "execution_count": 7,
   "metadata": {},
   "outputs": [],
   "source": [
    "col_to_remove = [col for col in data_user.columns if (col != 'fans' and col != 'user_id')]\n",
    "data_user.drop(columns=col_to_remove, inplace=True)"
   ]
  },
  {
   "cell_type": "code",
   "execution_count": 8,
   "metadata": {},
   "outputs": [],
   "source": [
    "data_user = data_user[data_user['fans'] > 10]"
   ]
  },
  {
   "cell_type": "code",
   "execution_count": 9,
   "metadata": {},
   "outputs": [],
   "source": [
    "data_review = pd.read_json(\"dataset/review.json\", lines=True, chunksize = 10000000)\n",
    "for df_review in data_review:\n",
    "    break"
   ]
  },
  {
   "cell_type": "code",
   "execution_count": 10,
   "metadata": {},
   "outputs": [
    {
     "data": {
      "text/html": [
       "<div>\n",
       "<style scoped>\n",
       "    .dataframe tbody tr th:only-of-type {\n",
       "        vertical-align: middle;\n",
       "    }\n",
       "\n",
       "    .dataframe tbody tr th {\n",
       "        vertical-align: top;\n",
       "    }\n",
       "\n",
       "    .dataframe thead th {\n",
       "        text-align: right;\n",
       "    }\n",
       "</style>\n",
       "<table border=\"1\" class=\"dataframe\">\n",
       "  <thead>\n",
       "    <tr style=\"text-align: right;\">\n",
       "      <th></th>\n",
       "      <th>business_id</th>\n",
       "      <th>cool</th>\n",
       "      <th>date</th>\n",
       "      <th>funny</th>\n",
       "      <th>review_id</th>\n",
       "      <th>stars</th>\n",
       "      <th>text</th>\n",
       "      <th>useful</th>\n",
       "      <th>user_id</th>\n",
       "    </tr>\n",
       "  </thead>\n",
       "  <tbody>\n",
       "    <tr>\n",
       "      <th>0</th>\n",
       "      <td>uYHaNptLzDLoV_JZ_MuzUA</td>\n",
       "      <td>0</td>\n",
       "      <td>2016-07-12</td>\n",
       "      <td>0</td>\n",
       "      <td>VfBHSwC5Vz_pbFluy07i9Q</td>\n",
       "      <td>5</td>\n",
       "      <td>My girlfriend and I stayed here for 3 nights a...</td>\n",
       "      <td>0</td>\n",
       "      <td>cjpdDjZyprfyDG3RlkVG3w</td>\n",
       "    </tr>\n",
       "    <tr>\n",
       "      <th>1</th>\n",
       "      <td>uYHaNptLzDLoV_JZ_MuzUA</td>\n",
       "      <td>0</td>\n",
       "      <td>2016-10-02</td>\n",
       "      <td>0</td>\n",
       "      <td>3zRpneRKDsOPq92tq7ybAA</td>\n",
       "      <td>3</td>\n",
       "      <td>If you need an inexpensive place to stay for a...</td>\n",
       "      <td>0</td>\n",
       "      <td>bjTcT8Ty4cJZhEOEo01FGA</td>\n",
       "    </tr>\n",
       "    <tr>\n",
       "      <th>2</th>\n",
       "      <td>uYHaNptLzDLoV_JZ_MuzUA</td>\n",
       "      <td>0</td>\n",
       "      <td>2015-09-17</td>\n",
       "      <td>0</td>\n",
       "      <td>ne5WhI1jUFOcRn-b-gAzHA</td>\n",
       "      <td>3</td>\n",
       "      <td>Mittlerweile gibt es in Edinburgh zwei Ableger...</td>\n",
       "      <td>0</td>\n",
       "      <td>AXgRULmWcME7J6Ix3I--ww</td>\n",
       "    </tr>\n",
       "    <tr>\n",
       "      <th>3</th>\n",
       "      <td>uYHaNptLzDLoV_JZ_MuzUA</td>\n",
       "      <td>0</td>\n",
       "      <td>2016-08-21</td>\n",
       "      <td>0</td>\n",
       "      <td>llmdwOgDReucVoWEry61Lw</td>\n",
       "      <td>4</td>\n",
       "      <td>Location is everything and this hotel has it! ...</td>\n",
       "      <td>0</td>\n",
       "      <td>oU2SSOmsp_A8JYI7Z2JJ5w</td>\n",
       "    </tr>\n",
       "    <tr>\n",
       "      <th>4</th>\n",
       "      <td>uYHaNptLzDLoV_JZ_MuzUA</td>\n",
       "      <td>0</td>\n",
       "      <td>2013-11-20</td>\n",
       "      <td>0</td>\n",
       "      <td>DuffS87NaSMDmIfluvT83g</td>\n",
       "      <td>5</td>\n",
       "      <td>gute lage im stadtzentrum. shoppingmeile und s...</td>\n",
       "      <td>0</td>\n",
       "      <td>0xtbPEna2Kei11vsU-U2Mw</td>\n",
       "    </tr>\n",
       "  </tbody>\n",
       "</table>\n",
       "</div>"
      ],
      "text/plain": [
       "              business_id  cool       date  funny               review_id  \\\n",
       "0  uYHaNptLzDLoV_JZ_MuzUA     0 2016-07-12      0  VfBHSwC5Vz_pbFluy07i9Q   \n",
       "1  uYHaNptLzDLoV_JZ_MuzUA     0 2016-10-02      0  3zRpneRKDsOPq92tq7ybAA   \n",
       "2  uYHaNptLzDLoV_JZ_MuzUA     0 2015-09-17      0  ne5WhI1jUFOcRn-b-gAzHA   \n",
       "3  uYHaNptLzDLoV_JZ_MuzUA     0 2016-08-21      0  llmdwOgDReucVoWEry61Lw   \n",
       "4  uYHaNptLzDLoV_JZ_MuzUA     0 2013-11-20      0  DuffS87NaSMDmIfluvT83g   \n",
       "\n",
       "   stars                                               text  useful  \\\n",
       "0      5  My girlfriend and I stayed here for 3 nights a...       0   \n",
       "1      3  If you need an inexpensive place to stay for a...       0   \n",
       "2      3  Mittlerweile gibt es in Edinburgh zwei Ableger...       0   \n",
       "3      4  Location is everything and this hotel has it! ...       0   \n",
       "4      5  gute lage im stadtzentrum. shoppingmeile und s...       0   \n",
       "\n",
       "                  user_id  \n",
       "0  cjpdDjZyprfyDG3RlkVG3w  \n",
       "1  bjTcT8Ty4cJZhEOEo01FGA  \n",
       "2  AXgRULmWcME7J6Ix3I--ww  \n",
       "3  oU2SSOmsp_A8JYI7Z2JJ5w  \n",
       "4  0xtbPEna2Kei11vsU-U2Mw  "
      ]
     },
     "execution_count": 10,
     "metadata": {},
     "output_type": "execute_result"
    }
   ],
   "source": [
    "df_review.head()"
   ]
  },
  {
   "cell_type": "code",
   "execution_count": 11,
   "metadata": {},
   "outputs": [
    {
     "data": {
      "text/html": [
       "<div>\n",
       "<style scoped>\n",
       "    .dataframe tbody tr th:only-of-type {\n",
       "        vertical-align: middle;\n",
       "    }\n",
       "\n",
       "    .dataframe tbody tr th {\n",
       "        vertical-align: top;\n",
       "    }\n",
       "\n",
       "    .dataframe thead th {\n",
       "        text-align: right;\n",
       "    }\n",
       "</style>\n",
       "<table border=\"1\" class=\"dataframe\">\n",
       "  <thead>\n",
       "    <tr style=\"text-align: right;\">\n",
       "      <th></th>\n",
       "      <th>business_id</th>\n",
       "      <th>stars</th>\n",
       "      <th>user_id</th>\n",
       "    </tr>\n",
       "  </thead>\n",
       "  <tbody>\n",
       "    <tr>\n",
       "      <th>0</th>\n",
       "      <td>uYHaNptLzDLoV_JZ_MuzUA</td>\n",
       "      <td>5</td>\n",
       "      <td>cjpdDjZyprfyDG3RlkVG3w</td>\n",
       "    </tr>\n",
       "    <tr>\n",
       "      <th>1</th>\n",
       "      <td>uYHaNptLzDLoV_JZ_MuzUA</td>\n",
       "      <td>3</td>\n",
       "      <td>bjTcT8Ty4cJZhEOEo01FGA</td>\n",
       "    </tr>\n",
       "    <tr>\n",
       "      <th>2</th>\n",
       "      <td>uYHaNptLzDLoV_JZ_MuzUA</td>\n",
       "      <td>3</td>\n",
       "      <td>AXgRULmWcME7J6Ix3I--ww</td>\n",
       "    </tr>\n",
       "    <tr>\n",
       "      <th>3</th>\n",
       "      <td>uYHaNptLzDLoV_JZ_MuzUA</td>\n",
       "      <td>4</td>\n",
       "      <td>oU2SSOmsp_A8JYI7Z2JJ5w</td>\n",
       "    </tr>\n",
       "    <tr>\n",
       "      <th>4</th>\n",
       "      <td>uYHaNptLzDLoV_JZ_MuzUA</td>\n",
       "      <td>5</td>\n",
       "      <td>0xtbPEna2Kei11vsU-U2Mw</td>\n",
       "    </tr>\n",
       "  </tbody>\n",
       "</table>\n",
       "</div>"
      ],
      "text/plain": [
       "              business_id  stars                 user_id\n",
       "0  uYHaNptLzDLoV_JZ_MuzUA      5  cjpdDjZyprfyDG3RlkVG3w\n",
       "1  uYHaNptLzDLoV_JZ_MuzUA      3  bjTcT8Ty4cJZhEOEo01FGA\n",
       "2  uYHaNptLzDLoV_JZ_MuzUA      3  AXgRULmWcME7J6Ix3I--ww\n",
       "3  uYHaNptLzDLoV_JZ_MuzUA      4  oU2SSOmsp_A8JYI7Z2JJ5w\n",
       "4  uYHaNptLzDLoV_JZ_MuzUA      5  0xtbPEna2Kei11vsU-U2Mw"
      ]
     },
     "execution_count": 11,
     "metadata": {},
     "output_type": "execute_result"
    }
   ],
   "source": [
    "col_to_remove = [col for col in df_review.columns if (col != 'business_id' and col != 'stars' and col !='user_id')]\n",
    "df_review.drop(columns=col_to_remove, inplace=True)\n",
    "df_review.head()"
   ]
  },
  {
   "cell_type": "code",
   "execution_count": 12,
   "metadata": {},
   "outputs": [],
   "source": [
    "df_business = pd.read_json(\"dataset/business.json\", lines=True)"
   ]
  },
  {
   "cell_type": "code",
   "execution_count": 13,
   "metadata": {},
   "outputs": [],
   "source": [
    "col_to_remove = [col for col in df_business.columns if (col != 'business_id' and col != 'stars')]\n",
    "df_business.drop(columns=col_to_remove, inplace=True)"
   ]
  },
  {
   "cell_type": "markdown",
   "metadata": {},
   "source": [
    "Now let's merge the user database with the review database. By doing so we would get each user's review and rating for each business they reviewed"
   ]
  },
  {
   "cell_type": "code",
   "execution_count": 14,
   "metadata": {},
   "outputs": [],
   "source": [
    "df_merge = data_user.merge(df_review, how='inner', left_on='user_id', right_on='user_id')"
   ]
  },
  {
   "cell_type": "markdown",
   "metadata": {},
   "source": [
    "Now we change the business stars columns to business_stars not to be mixed up with the users stars"
   ]
  },
  {
   "cell_type": "code",
   "execution_count": 15,
   "metadata": {},
   "outputs": [
    {
     "data": {
      "text/html": [
       "<div>\n",
       "<style scoped>\n",
       "    .dataframe tbody tr th:only-of-type {\n",
       "        vertical-align: middle;\n",
       "    }\n",
       "\n",
       "    .dataframe tbody tr th {\n",
       "        vertical-align: top;\n",
       "    }\n",
       "\n",
       "    .dataframe thead th {\n",
       "        text-align: right;\n",
       "    }\n",
       "</style>\n",
       "<table border=\"1\" class=\"dataframe\">\n",
       "  <thead>\n",
       "    <tr style=\"text-align: right;\">\n",
       "      <th></th>\n",
       "      <th>business_id</th>\n",
       "      <th>business_stars</th>\n",
       "    </tr>\n",
       "  </thead>\n",
       "  <tbody>\n",
       "    <tr>\n",
       "      <th>0</th>\n",
       "      <td>YDf95gJZaq05wvo7hTQbbQ</td>\n",
       "      <td>2.0</td>\n",
       "    </tr>\n",
       "    <tr>\n",
       "      <th>1</th>\n",
       "      <td>mLwM-h2YhXl2NCgdS84_Bw</td>\n",
       "      <td>4.5</td>\n",
       "    </tr>\n",
       "    <tr>\n",
       "      <th>2</th>\n",
       "      <td>v2WhjAB3PIBA8J8VxG3wEg</td>\n",
       "      <td>4.5</td>\n",
       "    </tr>\n",
       "    <tr>\n",
       "      <th>3</th>\n",
       "      <td>CVtCbSB1zUcUWg-9TNGTuQ</td>\n",
       "      <td>3.0</td>\n",
       "    </tr>\n",
       "    <tr>\n",
       "      <th>4</th>\n",
       "      <td>duHFBe87uNSXImQmvBh87Q</td>\n",
       "      <td>4.5</td>\n",
       "    </tr>\n",
       "  </tbody>\n",
       "</table>\n",
       "</div>"
      ],
      "text/plain": [
       "              business_id  business_stars\n",
       "0  YDf95gJZaq05wvo7hTQbbQ             2.0\n",
       "1  mLwM-h2YhXl2NCgdS84_Bw             4.5\n",
       "2  v2WhjAB3PIBA8J8VxG3wEg             4.5\n",
       "3  CVtCbSB1zUcUWg-9TNGTuQ             3.0\n",
       "4  duHFBe87uNSXImQmvBh87Q             4.5"
      ]
     },
     "execution_count": 15,
     "metadata": {},
     "output_type": "execute_result"
    }
   ],
   "source": [
    "df_business.rename(columns={'stars': 'business_stars'}, inplace=True)\n",
    "df_business.head()"
   ]
  },
  {
   "cell_type": "markdown",
   "metadata": {},
   "source": [
    "And now we merge it all"
   ]
  },
  {
   "cell_type": "code",
   "execution_count": 16,
   "metadata": {},
   "outputs": [],
   "source": [
    "df_merge_all = df_merge.merge(df_business, how='inner', left_on='business_id', right_on='business_id')"
   ]
  },
  {
   "cell_type": "code",
   "execution_count": 17,
   "metadata": {},
   "outputs": [
    {
     "data": {
      "text/html": [
       "<div>\n",
       "<style scoped>\n",
       "    .dataframe tbody tr th:only-of-type {\n",
       "        vertical-align: middle;\n",
       "    }\n",
       "\n",
       "    .dataframe tbody tr th {\n",
       "        vertical-align: top;\n",
       "    }\n",
       "\n",
       "    .dataframe thead th {\n",
       "        text-align: right;\n",
       "    }\n",
       "</style>\n",
       "<table border=\"1\" class=\"dataframe\">\n",
       "  <thead>\n",
       "    <tr style=\"text-align: right;\">\n",
       "      <th></th>\n",
       "      <th>fans</th>\n",
       "      <th>user_id</th>\n",
       "      <th>business_id</th>\n",
       "      <th>stars</th>\n",
       "      <th>business_stars</th>\n",
       "    </tr>\n",
       "  </thead>\n",
       "  <tbody>\n",
       "    <tr>\n",
       "      <th>0</th>\n",
       "      <td>209</td>\n",
       "      <td>lsSiIjAKVl-QRxKjRErBeg</td>\n",
       "      <td>J4CATH00YZrq8Bne2S4_cw</td>\n",
       "      <td>3</td>\n",
       "      <td>4.0</td>\n",
       "    </tr>\n",
       "    <tr>\n",
       "      <th>1</th>\n",
       "      <td>17</td>\n",
       "      <td>N2arP_u4sMGLgOZhA6ZFoQ</td>\n",
       "      <td>J4CATH00YZrq8Bne2S4_cw</td>\n",
       "      <td>5</td>\n",
       "      <td>4.0</td>\n",
       "    </tr>\n",
       "    <tr>\n",
       "      <th>2</th>\n",
       "      <td>13</td>\n",
       "      <td>tjufYqU4PWkP2j6vAFsCFw</td>\n",
       "      <td>J4CATH00YZrq8Bne2S4_cw</td>\n",
       "      <td>5</td>\n",
       "      <td>4.0</td>\n",
       "    </tr>\n",
       "    <tr>\n",
       "      <th>3</th>\n",
       "      <td>22</td>\n",
       "      <td>XHHUypDIxHvykpqd7pjydw</td>\n",
       "      <td>J4CATH00YZrq8Bne2S4_cw</td>\n",
       "      <td>4</td>\n",
       "      <td>4.0</td>\n",
       "    </tr>\n",
       "    <tr>\n",
       "      <th>4</th>\n",
       "      <td>13</td>\n",
       "      <td>zMLbjqeTqp83g0uIAk0SWg</td>\n",
       "      <td>J4CATH00YZrq8Bne2S4_cw</td>\n",
       "      <td>5</td>\n",
       "      <td>4.0</td>\n",
       "    </tr>\n",
       "  </tbody>\n",
       "</table>\n",
       "</div>"
      ],
      "text/plain": [
       "   fans                 user_id             business_id  stars  business_stars\n",
       "0   209  lsSiIjAKVl-QRxKjRErBeg  J4CATH00YZrq8Bne2S4_cw      3             4.0\n",
       "1    17  N2arP_u4sMGLgOZhA6ZFoQ  J4CATH00YZrq8Bne2S4_cw      5             4.0\n",
       "2    13  tjufYqU4PWkP2j6vAFsCFw  J4CATH00YZrq8Bne2S4_cw      5             4.0\n",
       "3    22  XHHUypDIxHvykpqd7pjydw  J4CATH00YZrq8Bne2S4_cw      4             4.0\n",
       "4    13  zMLbjqeTqp83g0uIAk0SWg  J4CATH00YZrq8Bne2S4_cw      5             4.0"
      ]
     },
     "execution_count": 17,
     "metadata": {},
     "output_type": "execute_result"
    }
   ],
   "source": [
    "df_merge_all.head()"
   ]
  },
  {
   "cell_type": "markdown",
   "metadata": {},
   "source": [
    "As we can see from the dataframe above we have all the information we need\n",
    "Now we spilt the users into bins depending on the number of fans they have"
   ]
  },
  {
   "cell_type": "code",
   "execution_count": 18,
   "metadata": {},
   "outputs": [],
   "source": [
    "max_fans = np.max(df_merge_all['fans'])\n",
    "bins = np.linspace(0, max_fans, num=10)\n",
    "bins = [0, 200, 400, 600, 800, 1000, 1200, 1400, 1600, 1800, 2000, max_fans]\n",
    "df_merge_all['fans_class'] = pd.cut(df_merge_all['fans'], bins=bins, include_lowest=True, right=True)"
   ]
  },
  {
   "cell_type": "markdown",
   "metadata": {},
   "source": [
    "If we group our users by the number of fans they have, we get the following"
   ]
  },
  {
   "cell_type": "code",
   "execution_count": 19,
   "metadata": {},
   "outputs": [
    {
     "data": {
      "text/plain": [
       "fans_class\n",
       "(-0.001, 200.0]     713684\n",
       "(200.0, 400.0]       24367\n",
       "(400.0, 600.0]       14085\n",
       "(600.0, 800.0]        3990\n",
       "(800.0, 1000.0]        845\n",
       "(1000.0, 1200.0]       173\n",
       "(1200.0, 1400.0]       313\n",
       "(1400.0, 1600.0]       126\n",
       "(1600.0, 1800.0]       127\n",
       "(1800.0, 2000.0]        76\n",
       "(2000.0, 6087.0]        32\n",
       "dtype: int64"
      ]
     },
     "execution_count": 19,
     "metadata": {},
     "output_type": "execute_result"
    }
   ],
   "source": [
    "df_merge_all.groupby('fans_class').size()"
   ]
  },
  {
   "cell_type": "markdown",
   "metadata": {},
   "source": [
    "Now to compare the user's rating vs the actual rating, we simply take the difference berween the two "
   ]
  },
  {
   "cell_type": "code",
   "execution_count": 20,
   "metadata": {},
   "outputs": [],
   "source": [
    "df_merge_all['user_vs_bus'] = (df_merge_all['stars']-df_merge_all['business_stars']).apply(lambda x : math.fabs(x))"
   ]
  },
  {
   "cell_type": "code",
   "execution_count": 21,
   "metadata": {},
   "outputs": [
    {
     "data": {
      "text/html": [
       "<div>\n",
       "<style scoped>\n",
       "    .dataframe tbody tr th:only-of-type {\n",
       "        vertical-align: middle;\n",
       "    }\n",
       "\n",
       "    .dataframe tbody tr th {\n",
       "        vertical-align: top;\n",
       "    }\n",
       "\n",
       "    .dataframe thead th {\n",
       "        text-align: right;\n",
       "    }\n",
       "</style>\n",
       "<table border=\"1\" class=\"dataframe\">\n",
       "  <thead>\n",
       "    <tr style=\"text-align: right;\">\n",
       "      <th></th>\n",
       "      <th>fans</th>\n",
       "      <th>user_id</th>\n",
       "      <th>business_id</th>\n",
       "      <th>stars</th>\n",
       "      <th>business_stars</th>\n",
       "      <th>fans_class</th>\n",
       "      <th>user_vs_bus</th>\n",
       "    </tr>\n",
       "  </thead>\n",
       "  <tbody>\n",
       "    <tr>\n",
       "      <th>0</th>\n",
       "      <td>209</td>\n",
       "      <td>lsSiIjAKVl-QRxKjRErBeg</td>\n",
       "      <td>J4CATH00YZrq8Bne2S4_cw</td>\n",
       "      <td>3</td>\n",
       "      <td>4.0</td>\n",
       "      <td>(200.0, 400.0]</td>\n",
       "      <td>1.0</td>\n",
       "    </tr>\n",
       "    <tr>\n",
       "      <th>1</th>\n",
       "      <td>17</td>\n",
       "      <td>N2arP_u4sMGLgOZhA6ZFoQ</td>\n",
       "      <td>J4CATH00YZrq8Bne2S4_cw</td>\n",
       "      <td>5</td>\n",
       "      <td>4.0</td>\n",
       "      <td>(-0.001, 200.0]</td>\n",
       "      <td>1.0</td>\n",
       "    </tr>\n",
       "    <tr>\n",
       "      <th>2</th>\n",
       "      <td>13</td>\n",
       "      <td>tjufYqU4PWkP2j6vAFsCFw</td>\n",
       "      <td>J4CATH00YZrq8Bne2S4_cw</td>\n",
       "      <td>5</td>\n",
       "      <td>4.0</td>\n",
       "      <td>(-0.001, 200.0]</td>\n",
       "      <td>1.0</td>\n",
       "    </tr>\n",
       "    <tr>\n",
       "      <th>3</th>\n",
       "      <td>22</td>\n",
       "      <td>XHHUypDIxHvykpqd7pjydw</td>\n",
       "      <td>J4CATH00YZrq8Bne2S4_cw</td>\n",
       "      <td>4</td>\n",
       "      <td>4.0</td>\n",
       "      <td>(-0.001, 200.0]</td>\n",
       "      <td>0.0</td>\n",
       "    </tr>\n",
       "    <tr>\n",
       "      <th>4</th>\n",
       "      <td>13</td>\n",
       "      <td>zMLbjqeTqp83g0uIAk0SWg</td>\n",
       "      <td>J4CATH00YZrq8Bne2S4_cw</td>\n",
       "      <td>5</td>\n",
       "      <td>4.0</td>\n",
       "      <td>(-0.001, 200.0]</td>\n",
       "      <td>1.0</td>\n",
       "    </tr>\n",
       "  </tbody>\n",
       "</table>\n",
       "</div>"
      ],
      "text/plain": [
       "   fans                 user_id             business_id  stars  \\\n",
       "0   209  lsSiIjAKVl-QRxKjRErBeg  J4CATH00YZrq8Bne2S4_cw      3   \n",
       "1    17  N2arP_u4sMGLgOZhA6ZFoQ  J4CATH00YZrq8Bne2S4_cw      5   \n",
       "2    13  tjufYqU4PWkP2j6vAFsCFw  J4CATH00YZrq8Bne2S4_cw      5   \n",
       "3    22  XHHUypDIxHvykpqd7pjydw  J4CATH00YZrq8Bne2S4_cw      4   \n",
       "4    13  zMLbjqeTqp83g0uIAk0SWg  J4CATH00YZrq8Bne2S4_cw      5   \n",
       "\n",
       "   business_stars       fans_class  user_vs_bus  \n",
       "0             4.0   (200.0, 400.0]          1.0  \n",
       "1             4.0  (-0.001, 200.0]          1.0  \n",
       "2             4.0  (-0.001, 200.0]          1.0  \n",
       "3             4.0  (-0.001, 200.0]          0.0  \n",
       "4             4.0  (-0.001, 200.0]          1.0  "
      ]
     },
     "execution_count": 21,
     "metadata": {},
     "output_type": "execute_result"
    }
   ],
   "source": [
    "df_merge_all.head()"
   ]
  },
  {
   "cell_type": "markdown",
   "metadata": {},
   "source": [
    "Now we can get group the users accoring to the number of fans they have and get the the mean of how far the users were off from the actuall rating"
   ]
  },
  {
   "cell_type": "code",
   "execution_count": 22,
   "metadata": {},
   "outputs": [],
   "source": [
    "dt = df_merge_all.groupby('fans_class')['user_vs_bus'].mean()"
   ]
  },
  {
   "cell_type": "code",
   "execution_count": 23,
   "metadata": {},
   "outputs": [
    {
     "data": {
      "text/plain": [
       "fans_class\n",
       "(-0.001, 200.0]     0.762726\n",
       "(200.0, 400.0]      0.678910\n",
       "(400.0, 600.0]      0.657047\n",
       "(600.0, 800.0]      0.662657\n",
       "(800.0, 1000.0]     0.640237\n",
       "(1000.0, 1200.0]    0.569364\n",
       "(1200.0, 1400.0]    0.680511\n",
       "(1400.0, 1600.0]    0.646825\n",
       "(1600.0, 1800.0]    0.751969\n",
       "(1800.0, 2000.0]    0.802632\n",
       "(2000.0, 6087.0]    0.671875\n",
       "Name: user_vs_bus, dtype: float64"
      ]
     },
     "execution_count": 23,
     "metadata": {},
     "output_type": "execute_result"
    }
   ],
   "source": [
    "dt"
   ]
  },
  {
   "cell_type": "code",
   "execution_count": 24,
   "metadata": {},
   "outputs": [
    {
     "data": {
      "image/png": "[encoded data removed]",
      "text/plain": [
       "<matplotlib.figure.Figure at 0x43340c850>"
      ]
     },
     "metadata": {},
     "output_type": "display_data"
    }
   ],
   "source": [
    "dt.plot.bar()\n",
    "plt.gcf().set_size_inches(20, 10, forward=True)\n",
    "plt.xlabel('Number of fans')\n",
    "plt.ylabel('Distance from actual rating')\n",
    "plt.title('Distance from actual rating vs number of fans')\n",
    "plt.show()"
   ]
  },
  {
   "cell_type": "markdown",
   "metadata": {},
   "source": [
    "So looking at the graph above or just looking at the means for each class, we observe something intresting. As one would expect as the number of fans increase, the users rating is closer to the actual rating, but we can see that starting with users that have number of fans somewhere between 1000-1200, the error actually grows. So we can conclude that the number of fans is not necessarily driven by how close the users rating is compare to the actuall rating \n",
    "\n",
    "So let's look at other attributes users have that can possibly be the reason that will explain why would one have fans"
   ]
  },
  {
   "cell_type": "code",
   "execution_count": 25,
   "metadata": {},
   "outputs": [],
   "source": [
    "data_user = pd.read_json(\"dataset/user.json\", lines=True)"
   ]
  },
  {
   "cell_type": "code",
   "execution_count": 26,
   "metadata": {},
   "outputs": [],
   "source": [
    "max_fans = np.max(data_user['fans'])\n",
    "bins = np.linspace(0, max_fans, num=10)\n",
    "bins = [0, 200, 400, 600, 800, 1000, 1200, 1400, 1600, 1800, 2000, max_fans]\n",
    "data_user['fans_class'] = pd.cut(data_user['fans'], bins=bins, include_lowest=True, right=True)"
   ]
  },
  {
   "cell_type": "code",
   "execution_count": 27,
   "metadata": {},
   "outputs": [
    {
     "data": {
      "text/html": [
       "<div>\n",
       "<style scoped>\n",
       "    .dataframe tbody tr th:only-of-type {\n",
       "        vertical-align: middle;\n",
       "    }\n",
       "\n",
       "    .dataframe tbody tr th {\n",
       "        vertical-align: top;\n",
       "    }\n",
       "\n",
       "    .dataframe thead th {\n",
       "        text-align: right;\n",
       "    }\n",
       "</style>\n",
       "<table border=\"1\" class=\"dataframe\">\n",
       "  <thead>\n",
       "    <tr style=\"text-align: right;\">\n",
       "      <th></th>\n",
       "      <th>average_stars</th>\n",
       "      <th>compliment_cool</th>\n",
       "      <th>compliment_cute</th>\n",
       "      <th>compliment_funny</th>\n",
       "      <th>compliment_hot</th>\n",
       "      <th>compliment_list</th>\n",
       "      <th>compliment_more</th>\n",
       "      <th>compliment_note</th>\n",
       "      <th>compliment_photos</th>\n",
       "      <th>compliment_plain</th>\n",
       "      <th>...</th>\n",
       "      <th>elite</th>\n",
       "      <th>fans</th>\n",
       "      <th>friends</th>\n",
       "      <th>funny</th>\n",
       "      <th>name</th>\n",
       "      <th>review_count</th>\n",
       "      <th>useful</th>\n",
       "      <th>user_id</th>\n",
       "      <th>yelping_since</th>\n",
       "      <th>fans_class</th>\n",
       "    </tr>\n",
       "  </thead>\n",
       "  <tbody>\n",
       "    <tr>\n",
       "      <th>0</th>\n",
       "      <td>3.80</td>\n",
       "      <td>5174</td>\n",
       "      <td>284</td>\n",
       "      <td>5174</td>\n",
       "      <td>5175</td>\n",
       "      <td>78</td>\n",
       "      <td>299</td>\n",
       "      <td>1435</td>\n",
       "      <td>7829</td>\n",
       "      <td>7397</td>\n",
       "      <td>...</td>\n",
       "      <td>[2014, 2016, 2013, 2011, 2012, 2015, 2010, 2017]</td>\n",
       "      <td>209</td>\n",
       "      <td>[M19NwFwAXKRZzt8koF11hQ, QRcMZ8pJJBBZaKubHOoMD...</td>\n",
       "      <td>16605</td>\n",
       "      <td>Cin</td>\n",
       "      <td>272</td>\n",
       "      <td>17019</td>\n",
       "      <td>lsSiIjAKVl-QRxKjRErBeg</td>\n",
       "      <td>2010-07-13</td>\n",
       "      <td>(200.0, 400.0]</td>\n",
       "    </tr>\n",
       "    <tr>\n",
       "      <th>1</th>\n",
       "      <td>3.94</td>\n",
       "      <td>1556</td>\n",
       "      <td>211</td>\n",
       "      <td>1556</td>\n",
       "      <td>1285</td>\n",
       "      <td>101</td>\n",
       "      <td>134</td>\n",
       "      <td>1295</td>\n",
       "      <td>162</td>\n",
       "      <td>2134</td>\n",
       "      <td>...</td>\n",
       "      <td>[2014, 2017, 2011, 2012, 2015, 2009, 2013, 200...</td>\n",
       "      <td>835</td>\n",
       "      <td>[eoSSJzdprj3jxXyi94vDXg, QF0urZa-0bxga17ZeY-9l...</td>\n",
       "      <td>10882</td>\n",
       "      <td>Andrea</td>\n",
       "      <td>2559</td>\n",
       "      <td>83681</td>\n",
       "      <td>om5ZiponkpRqUNa3pVPiRg</td>\n",
       "      <td>2006-01-18</td>\n",
       "      <td>(800.0, 1000.0]</td>\n",
       "    </tr>\n",
       "    <tr>\n",
       "      <th>2</th>\n",
       "      <td>4.72</td>\n",
       "      <td>15</td>\n",
       "      <td>1</td>\n",
       "      <td>15</td>\n",
       "      <td>5</td>\n",
       "      <td>0</td>\n",
       "      <td>1</td>\n",
       "      <td>11</td>\n",
       "      <td>8</td>\n",
       "      <td>20</td>\n",
       "      <td>...</td>\n",
       "      <td>[]</td>\n",
       "      <td>17</td>\n",
       "      <td>[Oa84FFGBw1axX8O6uDkmqg, SRcWERSl4rhm-Bz9zN_J8...</td>\n",
       "      <td>4</td>\n",
       "      <td>Gabe</td>\n",
       "      <td>277</td>\n",
       "      <td>45</td>\n",
       "      <td>-lGwMGHMC_XihFJNKCJNRg</td>\n",
       "      <td>2014-10-31</td>\n",
       "      <td>(-0.001, 200.0]</td>\n",
       "    </tr>\n",
       "    <tr>\n",
       "      <th>3</th>\n",
       "      <td>3.76</td>\n",
       "      <td>9</td>\n",
       "      <td>0</td>\n",
       "      <td>9</td>\n",
       "      <td>1</td>\n",
       "      <td>0</td>\n",
       "      <td>1</td>\n",
       "      <td>4</td>\n",
       "      <td>1</td>\n",
       "      <td>11</td>\n",
       "      <td>...</td>\n",
       "      <td>[2016, 2017]</td>\n",
       "      <td>11</td>\n",
       "      <td>[96DJovjKAtExnyBZRfniPQ, Djczq-bRn761U4FW77NUt...</td>\n",
       "      <td>4</td>\n",
       "      <td>Leah</td>\n",
       "      <td>436</td>\n",
       "      <td>15</td>\n",
       "      <td>D-ydMTPGWXTVm4_jjp0k9g</td>\n",
       "      <td>2013-04-01</td>\n",
       "      <td>(-0.001, 200.0]</td>\n",
       "    </tr>\n",
       "    <tr>\n",
       "      <th>4</th>\n",
       "      <td>4.23</td>\n",
       "      <td>276</td>\n",
       "      <td>0</td>\n",
       "      <td>276</td>\n",
       "      <td>59</td>\n",
       "      <td>0</td>\n",
       "      <td>8</td>\n",
       "      <td>51</td>\n",
       "      <td>169</td>\n",
       "      <td>386</td>\n",
       "      <td>...</td>\n",
       "      <td>[2017, 2016]</td>\n",
       "      <td>49</td>\n",
       "      <td>[iN0A6QIrEFYoSGHFaknh8Q, B2HDoWNIzLlon0IhS1cmD...</td>\n",
       "      <td>360</td>\n",
       "      <td>Juan</td>\n",
       "      <td>921</td>\n",
       "      <td>9152</td>\n",
       "      <td>PcvbBOCOcs6_suRDH7TSTg</td>\n",
       "      <td>2012-08-16</td>\n",
       "      <td>(-0.001, 200.0]</td>\n",
       "    </tr>\n",
       "  </tbody>\n",
       "</table>\n",
       "<p>5 rows × 23 columns</p>\n",
       "</div>"
      ],
      "text/plain": [
       "   average_stars  compliment_cool  compliment_cute  compliment_funny  \\\n",
       "0           3.80             5174              284              5174   \n",
       "1           3.94             1556              211              1556   \n",
       "2           4.72               15                1                15   \n",
       "3           3.76                9                0                 9   \n",
       "4           4.23              276                0               276   \n",
       "\n",
       "   compliment_hot  compliment_list  compliment_more  compliment_note  \\\n",
       "0            5175               78              299             1435   \n",
       "1            1285              101              134             1295   \n",
       "2               5                0                1               11   \n",
       "3               1                0                1                4   \n",
       "4              59                0                8               51   \n",
       "\n",
       "   compliment_photos  compliment_plain       ...         \\\n",
       "0               7829              7397       ...          \n",
       "1                162              2134       ...          \n",
       "2                  8                20       ...          \n",
       "3                  1                11       ...          \n",
       "4                169               386       ...          \n",
       "\n",
       "                                               elite  fans  \\\n",
       "0   [2014, 2016, 2013, 2011, 2012, 2015, 2010, 2017]   209   \n",
       "1  [2014, 2017, 2011, 2012, 2015, 2009, 2013, 200...   835   \n",
       "2                                                 []    17   \n",
       "3                                       [2016, 2017]    11   \n",
       "4                                       [2017, 2016]    49   \n",
       "\n",
       "                                             friends  funny    name  \\\n",
       "0  [M19NwFwAXKRZzt8koF11hQ, QRcMZ8pJJBBZaKubHOoMD...  16605     Cin   \n",
       "1  [eoSSJzdprj3jxXyi94vDXg, QF0urZa-0bxga17ZeY-9l...  10882  Andrea   \n",
       "2  [Oa84FFGBw1axX8O6uDkmqg, SRcWERSl4rhm-Bz9zN_J8...      4    Gabe   \n",
       "3  [96DJovjKAtExnyBZRfniPQ, Djczq-bRn761U4FW77NUt...      4    Leah   \n",
       "4  [iN0A6QIrEFYoSGHFaknh8Q, B2HDoWNIzLlon0IhS1cmD...    360    Juan   \n",
       "\n",
       "  review_count  useful                 user_id  yelping_since       fans_class  \n",
       "0          272   17019  lsSiIjAKVl-QRxKjRErBeg     2010-07-13   (200.0, 400.0]  \n",
       "1         2559   83681  om5ZiponkpRqUNa3pVPiRg     2006-01-18  (800.0, 1000.0]  \n",
       "2          277      45  -lGwMGHMC_XihFJNKCJNRg     2014-10-31  (-0.001, 200.0]  \n",
       "3          436      15  D-ydMTPGWXTVm4_jjp0k9g     2013-04-01  (-0.001, 200.0]  \n",
       "4          921    9152  PcvbBOCOcs6_suRDH7TSTg     2012-08-16  (-0.001, 200.0]  \n",
       "\n",
       "[5 rows x 23 columns]"
      ]
     },
     "execution_count": 27,
     "metadata": {},
     "output_type": "execute_result"
    }
   ],
   "source": [
    "data_user.head()"
   ]
  },
  {
   "cell_type": "code",
   "execution_count": 28,
   "metadata": {},
   "outputs": [
    {
     "data": {
      "text/html": [
       "<div>\n",
       "<style scoped>\n",
       "    .dataframe tbody tr th:only-of-type {\n",
       "        vertical-align: middle;\n",
       "    }\n",
       "\n",
       "    .dataframe tbody tr th {\n",
       "        vertical-align: top;\n",
       "    }\n",
       "\n",
       "    .dataframe thead th {\n",
       "        text-align: right;\n",
       "    }\n",
       "</style>\n",
       "<table border=\"1\" class=\"dataframe\">\n",
       "  <thead>\n",
       "    <tr style=\"text-align: right;\">\n",
       "      <th></th>\n",
       "      <th>fans</th>\n",
       "      <th>funny</th>\n",
       "      <th>review_count</th>\n",
       "      <th>useful</th>\n",
       "      <th>cool</th>\n",
       "    </tr>\n",
       "  </thead>\n",
       "  <tbody>\n",
       "    <tr>\n",
       "      <th>fans</th>\n",
       "      <td>1.000000</td>\n",
       "      <td>0.153339</td>\n",
       "      <td>0.435410</td>\n",
       "      <td>0.493583</td>\n",
       "      <td>0.525660</td>\n",
       "    </tr>\n",
       "    <tr>\n",
       "      <th>funny</th>\n",
       "      <td>0.153339</td>\n",
       "      <td>1.000000</td>\n",
       "      <td>0.448898</td>\n",
       "      <td>0.673192</td>\n",
       "      <td>0.780342</td>\n",
       "    </tr>\n",
       "    <tr>\n",
       "      <th>review_count</th>\n",
       "      <td>0.435410</td>\n",
       "      <td>0.448898</td>\n",
       "      <td>1.000000</td>\n",
       "      <td>0.537248</td>\n",
       "      <td>0.539936</td>\n",
       "    </tr>\n",
       "    <tr>\n",
       "      <th>useful</th>\n",
       "      <td>0.493583</td>\n",
       "      <td>0.673192</td>\n",
       "      <td>0.537248</td>\n",
       "      <td>1.000000</td>\n",
       "      <td>0.962144</td>\n",
       "    </tr>\n",
       "    <tr>\n",
       "      <th>cool</th>\n",
       "      <td>0.525660</td>\n",
       "      <td>0.780342</td>\n",
       "      <td>0.539936</td>\n",
       "      <td>0.962144</td>\n",
       "      <td>1.000000</td>\n",
       "    </tr>\n",
       "  </tbody>\n",
       "</table>\n",
       "</div>"
      ],
      "text/plain": [
       "                  fans     funny  review_count    useful      cool\n",
       "fans          1.000000  0.153339      0.435410  0.493583  0.525660\n",
       "funny         0.153339  1.000000      0.448898  0.673192  0.780342\n",
       "review_count  0.435410  0.448898      1.000000  0.537248  0.539936\n",
       "useful        0.493583  0.673192      0.537248  1.000000  0.962144\n",
       "cool          0.525660  0.780342      0.539936  0.962144  1.000000"
      ]
     },
     "execution_count": 28,
     "metadata": {},
     "output_type": "execute_result"
    }
   ],
   "source": [
    "dt = data_user.groupby('fans_class')[['fans', 'funny', 'review_count', 'useful', 'cool']].mean()\n",
    "dt.corr()"
   ]
  },
  {
   "cell_type": "code",
   "execution_count": 29,
   "metadata": {},
   "outputs": [
    {
     "data": {
      "text/plain": [
       "fans_class\n",
       "(-0.001, 200.0]        11.422494\n",
       "(200.0, 400.0]       6332.000000\n",
       "(400.0, 600.0]       8228.354167\n",
       "(600.0, 800.0]       8565.411765\n",
       "(800.0, 1000.0]     22994.150000\n",
       "(1000.0, 1200.0]    10326.666667\n",
       "(1200.0, 1400.0]    15751.333333\n",
       "(1400.0, 1600.0]     3679.333333\n",
       "(1600.0, 1800.0]     8041.750000\n",
       "(1800.0, 2000.0]    36240.500000\n",
       "(2000.0, 6087.0]     4830.000000\n",
       "Name: funny, dtype: float64"
      ]
     },
     "execution_count": 29,
     "metadata": {},
     "output_type": "execute_result"
    }
   ],
   "source": [
    "dt = data_user.groupby('fans_class')['funny'].mean()\n",
    "dt"
   ]
  },
  {
   "cell_type": "code",
   "execution_count": 30,
   "metadata": {},
   "outputs": [
    {
     "data": {
      "image/png": "[encoded data removed]",
      "text/plain": [
       "<matplotlib.figure.Figure at 0x54ef7bbd0>"
      ]
     },
     "metadata": {},
     "output_type": "display_data"
    }
   ],
   "source": [
    "dt.plot.bar()\n",
    "plt.gcf().set_size_inches(20, 10, forward=True)\n",
    "plt.xlabel('Number of fans')\n",
    "plt.ylabel('Comments found funny')\n",
    "plt.title('Number of funny comments vs number of fans')\n",
    "plt.show()"
   ]
  },
  {
   "cell_type": "code",
   "execution_count": 31,
   "metadata": {},
   "outputs": [
    {
     "data": {
      "text/plain": [
       "fans_class\n",
       "(-0.001, 200.0]       23.128701\n",
       "(200.0, 400.0]      1008.645688\n",
       "(400.0, 600.0]      1338.656250\n",
       "(600.0, 800.0]      1951.029412\n",
       "(800.0, 1000.0]     2147.450000\n",
       "(1000.0, 1200.0]    2481.333333\n",
       "(1200.0, 1400.0]    1979.000000\n",
       "(1400.0, 1600.0]    2660.666667\n",
       "(1600.0, 1800.0]    1798.500000\n",
       "(1800.0, 2000.0]    2228.000000\n",
       "(2000.0, 6087.0]    1629.333333\n",
       "Name: review_count, dtype: float64"
      ]
     },
     "execution_count": 31,
     "metadata": {},
     "output_type": "execute_result"
    }
   ],
   "source": [
    "dt = data_user.groupby('fans_class')['review_count'].mean()\n",
    "dt"
   ]
  },
  {
   "cell_type": "code",
   "execution_count": 32,
   "metadata": {},
   "outputs": [
    {
     "data": {
      "image/png": "[encoded data removed]",
      "text/plain": [
       "<matplotlib.figure.Figure at 0x52140fd50>"
      ]
     },
     "metadata": {},
     "output_type": "display_data"
    }
   ],
   "source": [
    "dt.plot.bar()\n",
    "plt.gcf().set_size_inches(20, 10, forward=True)\n",
    "plt.xlabel('Number of fans')\n",
    "plt.ylabel('Review count')\n",
    "plt.title('Review count vs number of fans')\n",
    "plt.show()"
   ]
  },
  {
   "cell_type": "code",
   "execution_count": 33,
   "metadata": {},
   "outputs": [
    {
     "data": {
      "text/plain": [
       "fans_class\n",
       "(-0.001, 200.0]        23.831338\n",
       "(200.0, 400.0]       9907.132867\n",
       "(400.0, 600.0]      14056.166667\n",
       "(600.0, 800.0]      17489.264706\n",
       "(800.0, 1000.0]     35263.250000\n",
       "(1000.0, 1200.0]    27982.500000\n",
       "(1200.0, 1400.0]    47197.333333\n",
       "(1400.0, 1600.0]     7581.333333\n",
       "(1600.0, 1800.0]    32268.250000\n",
       "(1800.0, 2000.0]    36943.500000\n",
       "(2000.0, 6087.0]    28985.000000\n",
       "Name: useful, dtype: float64"
      ]
     },
     "execution_count": 33,
     "metadata": {},
     "output_type": "execute_result"
    }
   ],
   "source": [
    "dt = data_user.groupby('fans_class')['useful'].mean()\n",
    "dt"
   ]
  },
  {
   "cell_type": "code",
   "execution_count": 34,
   "metadata": {},
   "outputs": [
    {
     "data": {
      "image/png": "[encoded data removed]",
      "text/plain": [
       "<matplotlib.figure.Figure at 0x1078194d0>"
      ]
     },
     "metadata": {},
     "output_type": "display_data"
    }
   ],
   "source": [
    "dt.plot.bar()\n",
    "plt.gcf().set_size_inches(20, 10, forward=True)\n",
    "plt.xlabel('Number of fans')\n",
    "plt.ylabel('Useful count')\n",
    "plt.title('Useful count vs number of fans')\n",
    "plt.show()"
   ]
  },
  {
   "cell_type": "code",
   "execution_count": 35,
   "metadata": {},
   "outputs": [],
   "source": [
    "# for group in data_user.groupby('fans_class'):\n",
    "#     sum_users = 0\n",
    "#     for user in group[1]['friends']:\n",
    "#         sum_users += len(user)\n",
    "#     print(group[0], float(sum_users)/len(group[1]))\n",
    "    \n",
    "dt = data_user.groupby('fans_class').apply(lambda x : np.sum(len(y) for y in x['friends'])/float(len(x)))"
   ]
  },
  {
   "cell_type": "code",
   "execution_count": 36,
   "metadata": {},
   "outputs": [
    {
     "data": {
      "image/png": "[encoded data removed]",
      "text/plain": [
       "<matplotlib.figure.Figure at 0x536fce090>"
      ]
     },
     "metadata": {},
     "output_type": "display_data"
    }
   ],
   "source": [
    "dt.plot.bar()\n",
    "plt.gcf().set_size_inches(20, 10, forward=True)\n",
    "plt.xlabel('Number of fans')\n",
    "plt.ylabel('Comments found cool')\n",
    "plt.title('Cool count vs number of fans')\n",
    "plt.show()"
   ]
  },
  {
   "cell_type": "code",
   "execution_count": 37,
   "metadata": {},
   "outputs": [
    {
     "data": {
      "image/png": "[encoded data removed]",
      "text/plain": [
       "<matplotlib.figure.Figure at 0x492609550>"
      ]
     },
     "metadata": {},
     "output_type": "display_data"
    }
   ],
   "source": [
    "dt.plot.bar()\n",
    "plt.gcf().set_size_inches(20, 10, forward=True)\n",
    "plt.xlabel('Number of fans')\n",
    "plt.ylabel('Number of friends')\n",
    "plt.title('Number of friends vs number of fans')\n",
    "plt.show()"
   ]
  },
  {
   "cell_type": "code",
   "execution_count": 38,
   "metadata": {},
   "outputs": [
    {
     "data": {
      "text/plain": [
       "fans_class\n",
       "(-0.001, 200.0]        14.441344\n",
       "(200.0, 400.0]       9441.515152\n",
       "(400.0, 600.0]      12101.958333\n",
       "(600.0, 800.0]      15563.117647\n",
       "(800.0, 1000.0]     31306.050000\n",
       "(1000.0, 1200.0]    21541.500000\n",
       "(1200.0, 1400.0]    36614.500000\n",
       "(1400.0, 1600.0]     6897.333333\n",
       "(1600.0, 1800.0]    19302.000000\n",
       "(1800.0, 2000.0]    36114.500000\n",
       "(2000.0, 6087.0]    27144.000000\n",
       "Name: cool, dtype: float64"
      ]
     },
     "execution_count": 38,
     "metadata": {},
     "output_type": "execute_result"
    }
   ],
   "source": [
    "dt = data_user.groupby('fans_class')['cool'].mean()\n",
    "dt"
   ]
  },
  {
   "cell_type": "code",
   "execution_count": null,
   "metadata": {
    "collapsed": true
   },
   "outputs": [],
   "source": []
  }
 ],
 "metadata": {
  "kernelspec": {
   "display_name": "Python 2",
   "language": "python",
   "name": "python2"
  },
  "language_info": {
   "codemirror_mode": {
    "name": "ipython",
    "version": 2
   },
   "file_extension": ".py",
   "mimetype": "text/x-python",
   "name": "python",
   "nbconvert_exporter": "python",
   "pygments_lexer": "ipython2",
   "version": "2.7.13"
  }
 },
 "nbformat": 4,
 "nbformat_minor": 2
}
