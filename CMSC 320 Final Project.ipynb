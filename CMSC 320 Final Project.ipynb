{
 "cells": [
  {
   "cell_type": "markdown",
   "metadata": {},
   "source": [
    "# <center>CMSC 320 Final Tutorial: Data Science using Yelp.</center>\n",
    "\n",
    "### <center>By: Oren Nureil, Michael Chacham-Tzedek, and Yuval Reiss</center>\n",
    "\n",
    "\n"
   ]
  },
  {
   "cell_type": "markdown",
   "metadata": {},
   "source": [
    "<img src=\"yelp2.png\">\n",
    "<center>Credit: Yelp https://www.yelp.com</center>"
   ]
  },
  {
   "cell_type": "markdown",
   "metadata": {},
   "source": [
    "## The Data Lifecycle"
   ]
  },
  {
   "cell_type": "markdown",
   "metadata": {},
   "source": [
    "The Data lifecycle, that has organized our CMSC 320 course throughout this semester, provides a high level overview of the stages involved in successful management and preservation of data for use and reuse. Our final project will deal with the process of applying the Data Life cycle to a real life dataset of Yelp reviews, users, and businesses. Buckle up, cause it's going to be a bumpy ride!! Hope you enjoy it!!"
   ]
  },
  {
   "cell_type": "markdown",
   "metadata": {},
   "source": [
    "<img src=\"one.png\">"
   ]
  },
  {
   "cell_type": "markdown",
   "metadata": {},
   "source": [
    "## Data Collection"
   ]
  },
  {
   "cell_type": "markdown",
   "metadata": {},
   "source": [
    "__So where do we begin? What happens now? How do I do Part 2 for Project 3? I'm scared!__\n",
    "\n",
    "Well lets take a deep breath, all we have to do is review the steps of the data lifecycle. The first step is data collection, collecting data? Sounds easy enough but from where, and how? \n",
    "\n",
    "<img src=\"clueless.png\">\n",
    "\n",
    "\n",
    "Well we know that we want to work with Yelp, so no better place than to look for it on Yelp's site!!"
   ]
  },
  {
   "cell_type": "markdown",
   "metadata": {},
   "source": [
    "<img src=\"two.png\">"
   ]
  },
  {
   "cell_type": "markdown",
   "metadata": {},
   "source": [
    "We import all of our different libraries and packages that we will use to process, explore, and test the data, we added to this list as the project went on."
   ]
  },
  {
   "cell_type": "code",
   "execution_count": 62,
   "metadata": {},
   "outputs": [],
   "source": [
    "import numpy as np\n",
    "import matplotlib.pyplot as plt\n",
    "import seaborn as sns\n",
    "import scipy as sp\n",
    "%matplotlib inline\n",
    "import nltk\n",
    "from nltk.corpus import stopwords\n",
    "import pandas as pd\n",
    "import math\n",
    "import os\n",
    "import warnings\n",
    "import numpy as np\n",
    "from collections import Counter\n",
    "from sklearn.feature_extraction.text import CountVectorizer\n",
    "from sklearn.feature_extraction.text import TfidfVectorizer\n",
    "from sklearn.feature_extraction.text import TfidfTransformer\n",
    "from sklearn.pipeline import Pipeline\n",
    "from sklearn.svm import LinearSVC\n",
    "from sklearn.model_selection import train_test_split"
   ]
  },
  {
   "cell_type": "code",
   "execution_count": 2,
   "metadata": {},
   "outputs": [],
   "source": [
    "REVIEW_FOLDER = os.path.join('dataset', 'review.json')\n",
    "BUSINESS_FOLDER = os.path.join('dataset', 'business.json')\n",
    "USER_FOLDER = os.path.join('dataset', 'user.json')"
   ]
  },
  {
   "cell_type": "code",
   "execution_count": 3,
   "metadata": {},
   "outputs": [],
   "source": [
    "user_data = pd.read_json(USER_FOLDER, lines=True)\n",
    "review_datas = pd.read_json(REVIEW_FOLDER, lines=True, chunksize = 10000000)\n",
    "business_data = pd.read_json(BUSINESS_FOLDER, lines=True)\n"
   ]
  },
  {
   "cell_type": "markdown",
   "metadata": {},
   "source": [
    "Need a workaround to extract the data from this JsonReader object since, just like our egos, the data is way too big. The chunksize parameter indicates the number of review objects that we obtain from the data source."
   ]
  },
  {
   "cell_type": "code",
   "execution_count": 4,
   "metadata": {},
   "outputs": [
    {
     "data": {
      "text/html": [
       "<div>\n",
       "<style scoped>\n",
       "    .dataframe tbody tr th:only-of-type {\n",
       "        vertical-align: middle;\n",
       "    }\n",
       "\n",
       "    .dataframe tbody tr th {\n",
       "        vertical-align: top;\n",
       "    }\n",
       "\n",
       "    .dataframe thead th {\n",
       "        text-align: right;\n",
       "    }\n",
       "</style>\n",
       "<table border=\"1\" class=\"dataframe\">\n",
       "  <thead>\n",
       "    <tr style=\"text-align: right;\">\n",
       "      <th></th>\n",
       "      <th>business_id</th>\n",
       "      <th>cool</th>\n",
       "      <th>date</th>\n",
       "      <th>funny</th>\n",
       "      <th>review_id</th>\n",
       "      <th>stars</th>\n",
       "      <th>text</th>\n",
       "      <th>useful</th>\n",
       "      <th>user_id</th>\n",
       "    </tr>\n",
       "  </thead>\n",
       "  <tbody>\n",
       "    <tr>\n",
       "      <th>0</th>\n",
       "      <td>uYHaNptLzDLoV_JZ_MuzUA</td>\n",
       "      <td>0</td>\n",
       "      <td>2016-07-12</td>\n",
       "      <td>0</td>\n",
       "      <td>VfBHSwC5Vz_pbFluy07i9Q</td>\n",
       "      <td>5</td>\n",
       "      <td>My girlfriend and I stayed here for 3 nights a...</td>\n",
       "      <td>0</td>\n",
       "      <td>cjpdDjZyprfyDG3RlkVG3w</td>\n",
       "    </tr>\n",
       "    <tr>\n",
       "      <th>1</th>\n",
       "      <td>uYHaNptLzDLoV_JZ_MuzUA</td>\n",
       "      <td>0</td>\n",
       "      <td>2016-10-02</td>\n",
       "      <td>0</td>\n",
       "      <td>3zRpneRKDsOPq92tq7ybAA</td>\n",
       "      <td>3</td>\n",
       "      <td>If you need an inexpensive place to stay for a...</td>\n",
       "      <td>0</td>\n",
       "      <td>bjTcT8Ty4cJZhEOEo01FGA</td>\n",
       "    </tr>\n",
       "    <tr>\n",
       "      <th>2</th>\n",
       "      <td>uYHaNptLzDLoV_JZ_MuzUA</td>\n",
       "      <td>0</td>\n",
       "      <td>2015-09-17</td>\n",
       "      <td>0</td>\n",
       "      <td>ne5WhI1jUFOcRn-b-gAzHA</td>\n",
       "      <td>3</td>\n",
       "      <td>Mittlerweile gibt es in Edinburgh zwei Ableger...</td>\n",
       "      <td>0</td>\n",
       "      <td>AXgRULmWcME7J6Ix3I--ww</td>\n",
       "    </tr>\n",
       "    <tr>\n",
       "      <th>3</th>\n",
       "      <td>uYHaNptLzDLoV_JZ_MuzUA</td>\n",
       "      <td>0</td>\n",
       "      <td>2016-08-21</td>\n",
       "      <td>0</td>\n",
       "      <td>llmdwOgDReucVoWEry61Lw</td>\n",
       "      <td>4</td>\n",
       "      <td>Location is everything and this hotel has it! ...</td>\n",
       "      <td>0</td>\n",
       "      <td>oU2SSOmsp_A8JYI7Z2JJ5w</td>\n",
       "    </tr>\n",
       "    <tr>\n",
       "      <th>4</th>\n",
       "      <td>uYHaNptLzDLoV_JZ_MuzUA</td>\n",
       "      <td>0</td>\n",
       "      <td>2013-11-20</td>\n",
       "      <td>0</td>\n",
       "      <td>DuffS87NaSMDmIfluvT83g</td>\n",
       "      <td>5</td>\n",
       "      <td>gute lage im stadtzentrum. shoppingmeile und s...</td>\n",
       "      <td>0</td>\n",
       "      <td>0xtbPEna2Kei11vsU-U2Mw</td>\n",
       "    </tr>\n",
       "    <tr>\n",
       "      <th>5</th>\n",
       "      <td>uYHaNptLzDLoV_JZ_MuzUA</td>\n",
       "      <td>0</td>\n",
       "      <td>2016-06-05</td>\n",
       "      <td>0</td>\n",
       "      <td>GvLmUkjUrOyFH8KFnmT1uw</td>\n",
       "      <td>5</td>\n",
       "      <td>Erstklassige Lage. Dazu ist alles geschrieben ...</td>\n",
       "      <td>0</td>\n",
       "      <td>rW8q706dz5-NnXDzMwVkiw</td>\n",
       "    </tr>\n",
       "    <tr>\n",
       "      <th>6</th>\n",
       "      <td>uYHaNptLzDLoV_JZ_MuzUA</td>\n",
       "      <td>0</td>\n",
       "      <td>2015-02-21</td>\n",
       "      <td>0</td>\n",
       "      <td>lGEl24NGj2HVBJrodeXcjg</td>\n",
       "      <td>4</td>\n",
       "      <td>Beautiful space, great location, staff rock. T...</td>\n",
       "      <td>0</td>\n",
       "      <td>yx8vNXUL0D0HS8rUIC7AFA</td>\n",
       "    </tr>\n",
       "    <tr>\n",
       "      <th>7</th>\n",
       "      <td>uYHaNptLzDLoV_JZ_MuzUA</td>\n",
       "      <td>0</td>\n",
       "      <td>2013-07-07</td>\n",
       "      <td>0</td>\n",
       "      <td>cUgvEy5wj7zYE68v1BzzVg</td>\n",
       "      <td>4</td>\n",
       "      <td>This is a fairly new property I think. It is a...</td>\n",
       "      <td>0</td>\n",
       "      <td>zXnH6W74FAJQ7q7b-NuBsA</td>\n",
       "    </tr>\n",
       "    <tr>\n",
       "      <th>8</th>\n",
       "      <td>uYHaNptLzDLoV_JZ_MuzUA</td>\n",
       "      <td>2</td>\n",
       "      <td>2013-04-27</td>\n",
       "      <td>0</td>\n",
       "      <td>FSB_BnvysBgH3JYrbFNcgw</td>\n",
       "      <td>4</td>\n",
       "      <td>First time at this group of hotels. Pretty new...</td>\n",
       "      <td>2</td>\n",
       "      <td>c5yp5hxwC1N98MjbV2LyWQ</td>\n",
       "    </tr>\n",
       "    <tr>\n",
       "      <th>9</th>\n",
       "      <td>uYHaNptLzDLoV_JZ_MuzUA</td>\n",
       "      <td>0</td>\n",
       "      <td>2015-04-13</td>\n",
       "      <td>0</td>\n",
       "      <td>dhl3ZW9aAEX_T7_um5tfaQ</td>\n",
       "      <td>4</td>\n",
       "      <td>Location location location! \\n\\nMotel One is j...</td>\n",
       "      <td>2</td>\n",
       "      <td>xJisL5w4wOgiYLokGMT_IA</td>\n",
       "    </tr>\n",
       "    <tr>\n",
       "      <th>10</th>\n",
       "      <td>uYHaNptLzDLoV_JZ_MuzUA</td>\n",
       "      <td>1</td>\n",
       "      <td>2016-11-08</td>\n",
       "      <td>1</td>\n",
       "      <td>JQJvnM3p-3eML05eKcTgiw</td>\n",
       "      <td>4</td>\n",
       "      <td>A hotel that has all the basics that you'd nee...</td>\n",
       "      <td>1</td>\n",
       "      <td>tgV6tsYQ66DZ3LQKvtC6cw</td>\n",
       "    </tr>\n",
       "    <tr>\n",
       "      <th>11</th>\n",
       "      <td>uYHaNptLzDLoV_JZ_MuzUA</td>\n",
       "      <td>0</td>\n",
       "      <td>2015-07-27</td>\n",
       "      <td>0</td>\n",
       "      <td>6JF4WfHgwYrrdZ2VeYtnFw</td>\n",
       "      <td>3</td>\n",
       "      <td>Stayed here for two nights, costs was £109 per...</td>\n",
       "      <td>1</td>\n",
       "      <td>Q-3YCVywc03w56wYtGlKvg</td>\n",
       "    </tr>\n",
       "    <tr>\n",
       "      <th>12</th>\n",
       "      <td>uYHaNptLzDLoV_JZ_MuzUA</td>\n",
       "      <td>0</td>\n",
       "      <td>2014-05-07</td>\n",
       "      <td>0</td>\n",
       "      <td>fbVYETRuWDw8QnpimpGMpg</td>\n",
       "      <td>4</td>\n",
       "      <td>Well, i like the idea of Motel One. Always in ...</td>\n",
       "      <td>1</td>\n",
       "      <td>Cx4UCow0zQgFQOp47RRRaA</td>\n",
       "    </tr>\n",
       "    <tr>\n",
       "      <th>13</th>\n",
       "      <td>uYHaNptLzDLoV_JZ_MuzUA</td>\n",
       "      <td>0</td>\n",
       "      <td>2015-02-26</td>\n",
       "      <td>0</td>\n",
       "      <td>lobj38NgaokqVseN8_nn6g</td>\n",
       "      <td>4</td>\n",
       "      <td>I really do love the Germans. This chain is sp...</td>\n",
       "      <td>1</td>\n",
       "      <td>eqWEgMH-DCP74i82BEAZzw</td>\n",
       "    </tr>\n",
       "    <tr>\n",
       "      <th>14</th>\n",
       "      <td>uYHaNptLzDLoV_JZ_MuzUA</td>\n",
       "      <td>1</td>\n",
       "      <td>2015-08-21</td>\n",
       "      <td>0</td>\n",
       "      <td>ysfjtAWreLoy7um8WTb8xA</td>\n",
       "      <td>5</td>\n",
       "      <td>Motel One sets the standard for budget hotels....</td>\n",
       "      <td>1</td>\n",
       "      <td>d0DGZRp6lHXGECJSc_nn-A</td>\n",
       "    </tr>\n",
       "    <tr>\n",
       "      <th>15</th>\n",
       "      <td>uYHaNptLzDLoV_JZ_MuzUA</td>\n",
       "      <td>0</td>\n",
       "      <td>2013-12-07</td>\n",
       "      <td>0</td>\n",
       "      <td>OF1ToqGAubsWGri5iad15w</td>\n",
       "      <td>3</td>\n",
       "      <td>Had Continental style breakfast here a short d...</td>\n",
       "      <td>1</td>\n",
       "      <td>IpLZ7RevQrFPJWYc9Gxymg</td>\n",
       "    </tr>\n",
       "    <tr>\n",
       "      <th>16</th>\n",
       "      <td>jQsNFOzDpxPmOurSWCg1vQ</td>\n",
       "      <td>0</td>\n",
       "      <td>2017-06-03</td>\n",
       "      <td>0</td>\n",
       "      <td>ByRzJ8rF2KJWLr-cUNU6EA</td>\n",
       "      <td>1</td>\n",
       "      <td>This place is horrible, we were so excited to ...</td>\n",
       "      <td>0</td>\n",
       "      <td>kzyLOqiJvyw_FWFTw2rjiQ</td>\n",
       "    </tr>\n",
       "    <tr>\n",
       "      <th>17</th>\n",
       "      <td>jQsNFOzDpxPmOurSWCg1vQ</td>\n",
       "      <td>0</td>\n",
       "      <td>2015-03-26</td>\n",
       "      <td>0</td>\n",
       "      <td>i5UwUPlQFPLcE8p2gPFwBw</td>\n",
       "      <td>4</td>\n",
       "      <td>For being fairly \"fast\" food.. Pei Wei (pronou...</td>\n",
       "      <td>1</td>\n",
       "      <td>WZXp9-V2dqRRJqhGgRqueA</td>\n",
       "    </tr>\n",
       "    <tr>\n",
       "      <th>18</th>\n",
       "      <td>jQsNFOzDpxPmOurSWCg1vQ</td>\n",
       "      <td>1</td>\n",
       "      <td>2012-12-30</td>\n",
       "      <td>1</td>\n",
       "      <td>EyQyvTTg2jX4or9bB8PC9g</td>\n",
       "      <td>5</td>\n",
       "      <td>I decided to try it out, I'm celiac and theref...</td>\n",
       "      <td>2</td>\n",
       "      <td>XylT12exfdLiI_3uDLVIpw</td>\n",
       "    </tr>\n",
       "    <tr>\n",
       "      <th>19</th>\n",
       "      <td>jQsNFOzDpxPmOurSWCg1vQ</td>\n",
       "      <td>1</td>\n",
       "      <td>2009-01-12</td>\n",
       "      <td>1</td>\n",
       "      <td>G-EFA005besj5uHsH0sQFA</td>\n",
       "      <td>3</td>\n",
       "      <td>I'm not saying Pei Wei is the best asian food ...</td>\n",
       "      <td>1</td>\n",
       "      <td>Ji9PeffxjwqPLO7pEfSpKQ</td>\n",
       "    </tr>\n",
       "    <tr>\n",
       "      <th>20</th>\n",
       "      <td>jQsNFOzDpxPmOurSWCg1vQ</td>\n",
       "      <td>0</td>\n",
       "      <td>2015-07-11</td>\n",
       "      <td>0</td>\n",
       "      <td>6PcJSGUBSLjt4VLXos5C4A</td>\n",
       "      <td>3</td>\n",
       "      <td>Sometimes the food is spot on and delicious an...</td>\n",
       "      <td>0</td>\n",
       "      <td>TLIWzAJPrET0zX4_vgvLhg</td>\n",
       "    </tr>\n",
       "    <tr>\n",
       "      <th>21</th>\n",
       "      <td>jQsNFOzDpxPmOurSWCg1vQ</td>\n",
       "      <td>0</td>\n",
       "      <td>2015-05-27</td>\n",
       "      <td>0</td>\n",
       "      <td>PFJmyZD_lNBa_Y3kbX1VvA</td>\n",
       "      <td>1</td>\n",
       "      <td>Decent customer service but the food was awful...</td>\n",
       "      <td>0</td>\n",
       "      <td>JZEiTNWBwmv6MOOXYCAaMQ</td>\n",
       "    </tr>\n",
       "    <tr>\n",
       "      <th>22</th>\n",
       "      <td>jQsNFOzDpxPmOurSWCg1vQ</td>\n",
       "      <td>1</td>\n",
       "      <td>2015-02-28</td>\n",
       "      <td>1</td>\n",
       "      <td>_Qv1FQUToLrKMuG6pV4Gzw</td>\n",
       "      <td>5</td>\n",
       "      <td>Super clean restaurant and friendly staff. FRE...</td>\n",
       "      <td>1</td>\n",
       "      <td>E56sVQT5-OWfSejJrma8_w</td>\n",
       "    </tr>\n",
       "    <tr>\n",
       "      <th>23</th>\n",
       "      <td>jQsNFOzDpxPmOurSWCg1vQ</td>\n",
       "      <td>0</td>\n",
       "      <td>2010-04-05</td>\n",
       "      <td>0</td>\n",
       "      <td>s2mlqrFNaPEGtcnEu3EJ4Q</td>\n",
       "      <td>4</td>\n",
       "      <td>Found this the other night.  It is the PF Chan...</td>\n",
       "      <td>0</td>\n",
       "      <td>4WYICo4emecA9r7sPYQkBw</td>\n",
       "    </tr>\n",
       "    <tr>\n",
       "      <th>24</th>\n",
       "      <td>jQsNFOzDpxPmOurSWCg1vQ</td>\n",
       "      <td>0</td>\n",
       "      <td>2015-05-22</td>\n",
       "      <td>0</td>\n",
       "      <td>oiSzZRrbi3y01_wqU528ZQ</td>\n",
       "      <td>1</td>\n",
       "      <td>The staff here is great and they're nice,  won...</td>\n",
       "      <td>0</td>\n",
       "      <td>P8mVj7AZwJTFFH5FXbbmUg</td>\n",
       "    </tr>\n",
       "    <tr>\n",
       "      <th>25</th>\n",
       "      <td>jQsNFOzDpxPmOurSWCg1vQ</td>\n",
       "      <td>0</td>\n",
       "      <td>2011-06-15</td>\n",
       "      <td>0</td>\n",
       "      <td>4BPjRE9VI0HhyZzyyYv0BQ</td>\n",
       "      <td>2</td>\n",
       "      <td>I had the garlic ginger broccoli chicken and i...</td>\n",
       "      <td>1</td>\n",
       "      <td>7Y4NEBQqWg7j-TvrQi6UZQ</td>\n",
       "    </tr>\n",
       "    <tr>\n",
       "      <th>26</th>\n",
       "      <td>jQsNFOzDpxPmOurSWCg1vQ</td>\n",
       "      <td>0</td>\n",
       "      <td>2017-03-12</td>\n",
       "      <td>0</td>\n",
       "      <td>kznHtw1Qido_9GX6sDQPJw</td>\n",
       "      <td>5</td>\n",
       "      <td>This review is based upon consistency of flavo...</td>\n",
       "      <td>0</td>\n",
       "      <td>vgZqQqe8cj6SBMH0EqDliw</td>\n",
       "    </tr>\n",
       "    <tr>\n",
       "      <th>27</th>\n",
       "      <td>jQsNFOzDpxPmOurSWCg1vQ</td>\n",
       "      <td>1</td>\n",
       "      <td>2016-12-19</td>\n",
       "      <td>0</td>\n",
       "      <td>HWRTVn3Lc-RwN6udv4WJzQ</td>\n",
       "      <td>5</td>\n",
       "      <td>I love this place i'd recommend it to anyone !...</td>\n",
       "      <td>1</td>\n",
       "      <td>O7G_c6wFXSygr82qs0GAcA</td>\n",
       "    </tr>\n",
       "    <tr>\n",
       "      <th>28</th>\n",
       "      <td>jQsNFOzDpxPmOurSWCg1vQ</td>\n",
       "      <td>0</td>\n",
       "      <td>2011-08-10</td>\n",
       "      <td>0</td>\n",
       "      <td>GiEB_A-m9HuX521WQNbL8w</td>\n",
       "      <td>4</td>\n",
       "      <td>1st! Place is not closed. There was an issue w...</td>\n",
       "      <td>1</td>\n",
       "      <td>UG4EKu13JRwzRix6ESINdg</td>\n",
       "    </tr>\n",
       "    <tr>\n",
       "      <th>29</th>\n",
       "      <td>jQsNFOzDpxPmOurSWCg1vQ</td>\n",
       "      <td>0</td>\n",
       "      <td>2013-06-17</td>\n",
       "      <td>0</td>\n",
       "      <td>GKi4i6qocIgaYcwv1_0zzQ</td>\n",
       "      <td>2</td>\n",
       "      <td>Definitely not a fan. Coming from Orange Count...</td>\n",
       "      <td>0</td>\n",
       "      <td>ZZG6yR27lIy3xwUYVgHO7w</td>\n",
       "    </tr>\n",
       "    <tr>\n",
       "      <th>...</th>\n",
       "      <td>...</td>\n",
       "      <td>...</td>\n",
       "      <td>...</td>\n",
       "      <td>...</td>\n",
       "      <td>...</td>\n",
       "      <td>...</td>\n",
       "      <td>...</td>\n",
       "      <td>...</td>\n",
       "      <td>...</td>\n",
       "    </tr>\n",
       "    <tr>\n",
       "      <th>4736867</th>\n",
       "      <td>iJ4uoZkPNJ39Vfh0HirI3w</td>\n",
       "      <td>0</td>\n",
       "      <td>2016-04-04</td>\n",
       "      <td>0</td>\n",
       "      <td>HZD4iWgACQELMBZgPKciOA</td>\n",
       "      <td>4</td>\n",
       "      <td>One of the best ramen ever! Really nice place,...</td>\n",
       "      <td>0</td>\n",
       "      <td>V26Q2FSvHLg4WHQsjY2MdQ</td>\n",
       "    </tr>\n",
       "    <tr>\n",
       "      <th>4736868</th>\n",
       "      <td>iJ4uoZkPNJ39Vfh0HirI3w</td>\n",
       "      <td>0</td>\n",
       "      <td>2015-04-28</td>\n",
       "      <td>0</td>\n",
       "      <td>plg7kmqAbIVS3YxYY88jgQ</td>\n",
       "      <td>4</td>\n",
       "      <td>It was really good my only issue is that they ...</td>\n",
       "      <td>0</td>\n",
       "      <td>ZyM7HTlB0Lj0ik8uSPtvxw</td>\n",
       "    </tr>\n",
       "    <tr>\n",
       "      <th>4736869</th>\n",
       "      <td>iJ4uoZkPNJ39Vfh0HirI3w</td>\n",
       "      <td>0</td>\n",
       "      <td>2015-10-02</td>\n",
       "      <td>0</td>\n",
       "      <td>TTrycA5Ytaj_hkTWm9cP-A</td>\n",
       "      <td>5</td>\n",
       "      <td>Ramen was delicious. Teriyaki was fresh and fl...</td>\n",
       "      <td>0</td>\n",
       "      <td>6NlUuoTeWNgNqwpGqk3LrQ</td>\n",
       "    </tr>\n",
       "    <tr>\n",
       "      <th>4736870</th>\n",
       "      <td>iJ4uoZkPNJ39Vfh0HirI3w</td>\n",
       "      <td>1</td>\n",
       "      <td>2016-08-08</td>\n",
       "      <td>0</td>\n",
       "      <td>CX5K3fY0f2X7fzi0w1qDTA</td>\n",
       "      <td>4</td>\n",
       "      <td>I ordered a Tonkotsu ramen, wonton chips and a...</td>\n",
       "      <td>1</td>\n",
       "      <td>CGpH6vTg8iYd8NA8acIBPw</td>\n",
       "    </tr>\n",
       "    <tr>\n",
       "      <th>4736871</th>\n",
       "      <td>iJ4uoZkPNJ39Vfh0HirI3w</td>\n",
       "      <td>0</td>\n",
       "      <td>2015-05-30</td>\n",
       "      <td>0</td>\n",
       "      <td>xVKQUkhWIPKevs7ZVdn0ew</td>\n",
       "      <td>4</td>\n",
       "      <td>Went on a Thursday night.\\nThick noodle, tonko...</td>\n",
       "      <td>1</td>\n",
       "      <td>_7PfR6Tvh2xTbiVi1GELoQ</td>\n",
       "    </tr>\n",
       "    <tr>\n",
       "      <th>4736872</th>\n",
       "      <td>iJ4uoZkPNJ39Vfh0HirI3w</td>\n",
       "      <td>1</td>\n",
       "      <td>2016-09-12</td>\n",
       "      <td>1</td>\n",
       "      <td>OnlrVLcCQG03jyQf_bgvPw</td>\n",
       "      <td>3</td>\n",
       "      <td>This place looks cool but the food and service...</td>\n",
       "      <td>1</td>\n",
       "      <td>7VsihmrVZJzUSL_VqjEfzA</td>\n",
       "    </tr>\n",
       "    <tr>\n",
       "      <th>4736873</th>\n",
       "      <td>iJ4uoZkPNJ39Vfh0HirI3w</td>\n",
       "      <td>0</td>\n",
       "      <td>2016-05-31</td>\n",
       "      <td>0</td>\n",
       "      <td>46D_tk-OIQS-jt3U8vN0pg</td>\n",
       "      <td>3</td>\n",
       "      <td>It's a cute spot to check out. Their corn was ...</td>\n",
       "      <td>0</td>\n",
       "      <td>w1uEa7272-ZXdiTm0aDM8A</td>\n",
       "    </tr>\n",
       "    <tr>\n",
       "      <th>4736874</th>\n",
       "      <td>iJ4uoZkPNJ39Vfh0HirI3w</td>\n",
       "      <td>0</td>\n",
       "      <td>2015-04-13</td>\n",
       "      <td>0</td>\n",
       "      <td>tmHCOLqAyiHtwDQlGTV9fQ</td>\n",
       "      <td>2</td>\n",
       "      <td>If you are downtown this is the only ramen pla...</td>\n",
       "      <td>0</td>\n",
       "      <td>Ijl7OMSDs5MiOhniXDnzcg</td>\n",
       "    </tr>\n",
       "    <tr>\n",
       "      <th>4736875</th>\n",
       "      <td>iJ4uoZkPNJ39Vfh0HirI3w</td>\n",
       "      <td>1</td>\n",
       "      <td>2016-08-14</td>\n",
       "      <td>0</td>\n",
       "      <td>SSID6mEYfbvvJFV-oZUW-g</td>\n",
       "      <td>3</td>\n",
       "      <td>Standard ramen. Great way of naming dishes. Cu...</td>\n",
       "      <td>1</td>\n",
       "      <td>NKxB1Kyov0CsWtxaLQNzHA</td>\n",
       "    </tr>\n",
       "    <tr>\n",
       "      <th>4736876</th>\n",
       "      <td>iJ4uoZkPNJ39Vfh0HirI3w</td>\n",
       "      <td>0</td>\n",
       "      <td>2016-09-18</td>\n",
       "      <td>0</td>\n",
       "      <td>Bp3ZajPim_ASkLxVZeaG-Q</td>\n",
       "      <td>4</td>\n",
       "      <td>Ramen was good. Ambiance very hip. Service was...</td>\n",
       "      <td>0</td>\n",
       "      <td>TKlFGjkZ5nIR2FqAkgOeIw</td>\n",
       "    </tr>\n",
       "    <tr>\n",
       "      <th>4736877</th>\n",
       "      <td>iJ4uoZkPNJ39Vfh0HirI3w</td>\n",
       "      <td>0</td>\n",
       "      <td>2016-05-21</td>\n",
       "      <td>1</td>\n",
       "      <td>idyG-T6t6OHyvk3BOA42lw</td>\n",
       "      <td>4</td>\n",
       "      <td>Pleasantly cozy but modern... Good food and se...</td>\n",
       "      <td>0</td>\n",
       "      <td>LBDgOSBTPU68MQnxfZirlw</td>\n",
       "    </tr>\n",
       "    <tr>\n",
       "      <th>4736878</th>\n",
       "      <td>iJ4uoZkPNJ39Vfh0HirI3w</td>\n",
       "      <td>0</td>\n",
       "      <td>2016-02-02</td>\n",
       "      <td>0</td>\n",
       "      <td>4orEKdk9f3EwZb9pMKj_Qw</td>\n",
       "      <td>5</td>\n",
       "      <td>So me and my daughter are ramen addicts and we...</td>\n",
       "      <td>0</td>\n",
       "      <td>ZtW4ud-A5doXWgM5dOFaIg</td>\n",
       "    </tr>\n",
       "    <tr>\n",
       "      <th>4736879</th>\n",
       "      <td>iJ4uoZkPNJ39Vfh0HirI3w</td>\n",
       "      <td>6</td>\n",
       "      <td>2015-08-07</td>\n",
       "      <td>8</td>\n",
       "      <td>5JV4r1KIWerN3JViyMoC8A</td>\n",
       "      <td>3</td>\n",
       "      <td>For a trendy downtown spot, the food was a bit...</td>\n",
       "      <td>11</td>\n",
       "      <td>bLbSNkLggFnqwNNzzq-Ijw</td>\n",
       "    </tr>\n",
       "    <tr>\n",
       "      <th>4736880</th>\n",
       "      <td>iJ4uoZkPNJ39Vfh0HirI3w</td>\n",
       "      <td>0</td>\n",
       "      <td>2016-09-17</td>\n",
       "      <td>0</td>\n",
       "      <td>_b815arWo9HRIwJTQj_F_g</td>\n",
       "      <td>5</td>\n",
       "      <td>I really like this place. The variety of broth...</td>\n",
       "      <td>0</td>\n",
       "      <td>eurIEcpGa_tTi1LMWa1pUA</td>\n",
       "    </tr>\n",
       "    <tr>\n",
       "      <th>4736881</th>\n",
       "      <td>iJ4uoZkPNJ39Vfh0HirI3w</td>\n",
       "      <td>0</td>\n",
       "      <td>2016-06-25</td>\n",
       "      <td>0</td>\n",
       "      <td>KQpaVYToS4-NTAW4CzL3sA</td>\n",
       "      <td>5</td>\n",
       "      <td>My umpteenth time coming back here! The new Me...</td>\n",
       "      <td>0</td>\n",
       "      <td>HO-OEQgDzGq3fOK5sQP5Lg</td>\n",
       "    </tr>\n",
       "    <tr>\n",
       "      <th>4736882</th>\n",
       "      <td>iJ4uoZkPNJ39Vfh0HirI3w</td>\n",
       "      <td>1</td>\n",
       "      <td>2015-09-19</td>\n",
       "      <td>0</td>\n",
       "      <td>KyyVA_I5rk8oeDA8Se-nyw</td>\n",
       "      <td>5</td>\n",
       "      <td>Note to self: If I'm vegetarian and order ever...</td>\n",
       "      <td>1</td>\n",
       "      <td>06o1DmiBoiyxI2q3v2QRbg</td>\n",
       "    </tr>\n",
       "    <tr>\n",
       "      <th>4736883</th>\n",
       "      <td>iJ4uoZkPNJ39Vfh0HirI3w</td>\n",
       "      <td>0</td>\n",
       "      <td>2016-03-20</td>\n",
       "      <td>0</td>\n",
       "      <td>HHT_Kvtcn3YYw3Vbi55K3Q</td>\n",
       "      <td>4</td>\n",
       "      <td>Had a party of 8 and had a great experience he...</td>\n",
       "      <td>0</td>\n",
       "      <td>ewMjaBcblOOYChGj3XWkhA</td>\n",
       "    </tr>\n",
       "    <tr>\n",
       "      <th>4736884</th>\n",
       "      <td>iJ4uoZkPNJ39Vfh0HirI3w</td>\n",
       "      <td>2</td>\n",
       "      <td>2015-06-29</td>\n",
       "      <td>1</td>\n",
       "      <td>WxEo3E-7nDzPAwRip828QA</td>\n",
       "      <td>5</td>\n",
       "      <td>Never had Ramen and Noodles but my friend want...</td>\n",
       "      <td>1</td>\n",
       "      <td>SGgO8dvXq1GOL58jFtULhA</td>\n",
       "    </tr>\n",
       "    <tr>\n",
       "      <th>4736885</th>\n",
       "      <td>iJ4uoZkPNJ39Vfh0HirI3w</td>\n",
       "      <td>0</td>\n",
       "      <td>2015-09-11</td>\n",
       "      <td>0</td>\n",
       "      <td>RyWg5rJMd4_QBsItEFXFHA</td>\n",
       "      <td>2</td>\n",
       "      <td>There are plenty of good Ramen houses in Vegas...</td>\n",
       "      <td>0</td>\n",
       "      <td>3roAGe7soqSOB5FVIcqO-Q</td>\n",
       "    </tr>\n",
       "    <tr>\n",
       "      <th>4736886</th>\n",
       "      <td>iJ4uoZkPNJ39Vfh0HirI3w</td>\n",
       "      <td>1</td>\n",
       "      <td>2015-08-30</td>\n",
       "      <td>1</td>\n",
       "      <td>-Kj48AkzcOz6N6uVMlVe_w</td>\n",
       "      <td>4</td>\n",
       "      <td>This place reminds me of a ramen house in Waik...</td>\n",
       "      <td>3</td>\n",
       "      <td>FAjCZoxiGw9HJKueB8YWTg</td>\n",
       "    </tr>\n",
       "    <tr>\n",
       "      <th>4736887</th>\n",
       "      <td>iJ4uoZkPNJ39Vfh0HirI3w</td>\n",
       "      <td>0</td>\n",
       "      <td>2016-01-03</td>\n",
       "      <td>0</td>\n",
       "      <td>932NZmVXVvZa5UlAet6F-Q</td>\n",
       "      <td>4</td>\n",
       "      <td>It's interesting concept to eat Japanese ramen...</td>\n",
       "      <td>0</td>\n",
       "      <td>-Kv9DMBZGQyf2WSKDR7LwA</td>\n",
       "    </tr>\n",
       "    <tr>\n",
       "      <th>4736888</th>\n",
       "      <td>iJ4uoZkPNJ39Vfh0HirI3w</td>\n",
       "      <td>0</td>\n",
       "      <td>2015-09-14</td>\n",
       "      <td>0</td>\n",
       "      <td>m-4DuIwMOJ0vNdqGrKRGJw</td>\n",
       "      <td>5</td>\n",
       "      <td>First of all, I love ramen and I live in a cit...</td>\n",
       "      <td>0</td>\n",
       "      <td>jFCt0lMNjo0obGjVXVHYUg</td>\n",
       "    </tr>\n",
       "    <tr>\n",
       "      <th>4736889</th>\n",
       "      <td>iJ4uoZkPNJ39Vfh0HirI3w</td>\n",
       "      <td>0</td>\n",
       "      <td>2016-02-18</td>\n",
       "      <td>0</td>\n",
       "      <td>SfkTYkJTwlNHkqbZr3ZOeQ</td>\n",
       "      <td>1</td>\n",
       "      <td>Have come here every other week since they ope...</td>\n",
       "      <td>0</td>\n",
       "      <td>dupdGg3JQUkZb4LmSuxhtA</td>\n",
       "    </tr>\n",
       "    <tr>\n",
       "      <th>4736890</th>\n",
       "      <td>iJ4uoZkPNJ39Vfh0HirI3w</td>\n",
       "      <td>0</td>\n",
       "      <td>2016-01-25</td>\n",
       "      <td>0</td>\n",
       "      <td>o40pVpXb_tH3Z1tcuX1egA</td>\n",
       "      <td>4</td>\n",
       "      <td>Although my love for ramen still stays with Mo...</td>\n",
       "      <td>0</td>\n",
       "      <td>VacS9fgNkuZ3gDqDHViKuw</td>\n",
       "    </tr>\n",
       "    <tr>\n",
       "      <th>4736891</th>\n",
       "      <td>iJ4uoZkPNJ39Vfh0HirI3w</td>\n",
       "      <td>0</td>\n",
       "      <td>2015-09-14</td>\n",
       "      <td>0</td>\n",
       "      <td>TCBD1pxrgJ3yTbQB2Q4NSQ</td>\n",
       "      <td>5</td>\n",
       "      <td>Loved it. The staff was super friendly, the en...</td>\n",
       "      <td>0</td>\n",
       "      <td>D7m9IRxlyGSsMeNu6jkGpQ</td>\n",
       "    </tr>\n",
       "    <tr>\n",
       "      <th>4736892</th>\n",
       "      <td>iJ4uoZkPNJ39Vfh0HirI3w</td>\n",
       "      <td>2</td>\n",
       "      <td>2015-07-19</td>\n",
       "      <td>3</td>\n",
       "      <td>JRMc2ESqsYYHCMsMlWyx-Q</td>\n",
       "      <td>3</td>\n",
       "      <td>Downtown LV is trying so hard to be Hipster ce...</td>\n",
       "      <td>4</td>\n",
       "      <td>cQU8IWVEJYcklBJbW9CzdQ</td>\n",
       "    </tr>\n",
       "    <tr>\n",
       "      <th>4736893</th>\n",
       "      <td>iJ4uoZkPNJ39Vfh0HirI3w</td>\n",
       "      <td>2</td>\n",
       "      <td>2015-09-07</td>\n",
       "      <td>1</td>\n",
       "      <td>VW304lsvKZ5KgXHqt_V3wA</td>\n",
       "      <td>5</td>\n",
       "      <td>After three days of working an anime conventio...</td>\n",
       "      <td>4</td>\n",
       "      <td>7HOBCw1pTaZU5qcqwwNy3w</td>\n",
       "    </tr>\n",
       "    <tr>\n",
       "      <th>4736894</th>\n",
       "      <td>iJ4uoZkPNJ39Vfh0HirI3w</td>\n",
       "      <td>0</td>\n",
       "      <td>2015-09-10</td>\n",
       "      <td>2</td>\n",
       "      <td>8gikTIY-HRdGg7FnRNldng</td>\n",
       "      <td>2</td>\n",
       "      <td>I'll give this place 2-stars as I'm all for su...</td>\n",
       "      <td>1</td>\n",
       "      <td>Q-ydrhfqmmOxRb38H6mmEQ</td>\n",
       "    </tr>\n",
       "    <tr>\n",
       "      <th>4736895</th>\n",
       "      <td>iJ4uoZkPNJ39Vfh0HirI3w</td>\n",
       "      <td>0</td>\n",
       "      <td>2015-04-21</td>\n",
       "      <td>0</td>\n",
       "      <td>3BCbmgjBhro-RZQUjM0Xxg</td>\n",
       "      <td>5</td>\n",
       "      <td>The vibe here is awesome. Great art &amp; music. \\...</td>\n",
       "      <td>1</td>\n",
       "      <td>i6KWlHBp3WwnlBACWvrsUw</td>\n",
       "    </tr>\n",
       "    <tr>\n",
       "      <th>4736896</th>\n",
       "      <td>iJ4uoZkPNJ39Vfh0HirI3w</td>\n",
       "      <td>0</td>\n",
       "      <td>2016-06-24</td>\n",
       "      <td>0</td>\n",
       "      <td>zVqfgEqvIvLDpUc4hjTubw</td>\n",
       "      <td>5</td>\n",
       "      <td>This place was amazing! It's a little past Fre...</td>\n",
       "      <td>0</td>\n",
       "      <td>_zMsJzjl6fXHb9mmr1l9Wg</td>\n",
       "    </tr>\n",
       "  </tbody>\n",
       "</table>\n",
       "<p>4736897 rows × 9 columns</p>\n",
       "</div>"
      ],
      "text/plain": [
       "                    business_id  cool       date  funny  \\\n",
       "0        uYHaNptLzDLoV_JZ_MuzUA     0 2016-07-12      0   \n",
       "1        uYHaNptLzDLoV_JZ_MuzUA     0 2016-10-02      0   \n",
       "2        uYHaNptLzDLoV_JZ_MuzUA     0 2015-09-17      0   \n",
       "3        uYHaNptLzDLoV_JZ_MuzUA     0 2016-08-21      0   \n",
       "4        uYHaNptLzDLoV_JZ_MuzUA     0 2013-11-20      0   \n",
       "5        uYHaNptLzDLoV_JZ_MuzUA     0 2016-06-05      0   \n",
       "6        uYHaNptLzDLoV_JZ_MuzUA     0 2015-02-21      0   \n",
       "7        uYHaNptLzDLoV_JZ_MuzUA     0 2013-07-07      0   \n",
       "8        uYHaNptLzDLoV_JZ_MuzUA     2 2013-04-27      0   \n",
       "9        uYHaNptLzDLoV_JZ_MuzUA     0 2015-04-13      0   \n",
       "10       uYHaNptLzDLoV_JZ_MuzUA     1 2016-11-08      1   \n",
       "11       uYHaNptLzDLoV_JZ_MuzUA     0 2015-07-27      0   \n",
       "12       uYHaNptLzDLoV_JZ_MuzUA     0 2014-05-07      0   \n",
       "13       uYHaNptLzDLoV_JZ_MuzUA     0 2015-02-26      0   \n",
       "14       uYHaNptLzDLoV_JZ_MuzUA     1 2015-08-21      0   \n",
       "15       uYHaNptLzDLoV_JZ_MuzUA     0 2013-12-07      0   \n",
       "16       jQsNFOzDpxPmOurSWCg1vQ     0 2017-06-03      0   \n",
       "17       jQsNFOzDpxPmOurSWCg1vQ     0 2015-03-26      0   \n",
       "18       jQsNFOzDpxPmOurSWCg1vQ     1 2012-12-30      1   \n",
       "19       jQsNFOzDpxPmOurSWCg1vQ     1 2009-01-12      1   \n",
       "20       jQsNFOzDpxPmOurSWCg1vQ     0 2015-07-11      0   \n",
       "21       jQsNFOzDpxPmOurSWCg1vQ     0 2015-05-27      0   \n",
       "22       jQsNFOzDpxPmOurSWCg1vQ     1 2015-02-28      1   \n",
       "23       jQsNFOzDpxPmOurSWCg1vQ     0 2010-04-05      0   \n",
       "24       jQsNFOzDpxPmOurSWCg1vQ     0 2015-05-22      0   \n",
       "25       jQsNFOzDpxPmOurSWCg1vQ     0 2011-06-15      0   \n",
       "26       jQsNFOzDpxPmOurSWCg1vQ     0 2017-03-12      0   \n",
       "27       jQsNFOzDpxPmOurSWCg1vQ     1 2016-12-19      0   \n",
       "28       jQsNFOzDpxPmOurSWCg1vQ     0 2011-08-10      0   \n",
       "29       jQsNFOzDpxPmOurSWCg1vQ     0 2013-06-17      0   \n",
       "...                         ...   ...        ...    ...   \n",
       "4736867  iJ4uoZkPNJ39Vfh0HirI3w     0 2016-04-04      0   \n",
       "4736868  iJ4uoZkPNJ39Vfh0HirI3w     0 2015-04-28      0   \n",
       "4736869  iJ4uoZkPNJ39Vfh0HirI3w     0 2015-10-02      0   \n",
       "4736870  iJ4uoZkPNJ39Vfh0HirI3w     1 2016-08-08      0   \n",
       "4736871  iJ4uoZkPNJ39Vfh0HirI3w     0 2015-05-30      0   \n",
       "4736872  iJ4uoZkPNJ39Vfh0HirI3w     1 2016-09-12      1   \n",
       "4736873  iJ4uoZkPNJ39Vfh0HirI3w     0 2016-05-31      0   \n",
       "4736874  iJ4uoZkPNJ39Vfh0HirI3w     0 2015-04-13      0   \n",
       "4736875  iJ4uoZkPNJ39Vfh0HirI3w     1 2016-08-14      0   \n",
       "4736876  iJ4uoZkPNJ39Vfh0HirI3w     0 2016-09-18      0   \n",
       "4736877  iJ4uoZkPNJ39Vfh0HirI3w     0 2016-05-21      1   \n",
       "4736878  iJ4uoZkPNJ39Vfh0HirI3w     0 2016-02-02      0   \n",
       "4736879  iJ4uoZkPNJ39Vfh0HirI3w     6 2015-08-07      8   \n",
       "4736880  iJ4uoZkPNJ39Vfh0HirI3w     0 2016-09-17      0   \n",
       "4736881  iJ4uoZkPNJ39Vfh0HirI3w     0 2016-06-25      0   \n",
       "4736882  iJ4uoZkPNJ39Vfh0HirI3w     1 2015-09-19      0   \n",
       "4736883  iJ4uoZkPNJ39Vfh0HirI3w     0 2016-03-20      0   \n",
       "4736884  iJ4uoZkPNJ39Vfh0HirI3w     2 2015-06-29      1   \n",
       "4736885  iJ4uoZkPNJ39Vfh0HirI3w     0 2015-09-11      0   \n",
       "4736886  iJ4uoZkPNJ39Vfh0HirI3w     1 2015-08-30      1   \n",
       "4736887  iJ4uoZkPNJ39Vfh0HirI3w     0 2016-01-03      0   \n",
       "4736888  iJ4uoZkPNJ39Vfh0HirI3w     0 2015-09-14      0   \n",
       "4736889  iJ4uoZkPNJ39Vfh0HirI3w     0 2016-02-18      0   \n",
       "4736890  iJ4uoZkPNJ39Vfh0HirI3w     0 2016-01-25      0   \n",
       "4736891  iJ4uoZkPNJ39Vfh0HirI3w     0 2015-09-14      0   \n",
       "4736892  iJ4uoZkPNJ39Vfh0HirI3w     2 2015-07-19      3   \n",
       "4736893  iJ4uoZkPNJ39Vfh0HirI3w     2 2015-09-07      1   \n",
       "4736894  iJ4uoZkPNJ39Vfh0HirI3w     0 2015-09-10      2   \n",
       "4736895  iJ4uoZkPNJ39Vfh0HirI3w     0 2015-04-21      0   \n",
       "4736896  iJ4uoZkPNJ39Vfh0HirI3w     0 2016-06-24      0   \n",
       "\n",
       "                      review_id  stars  \\\n",
       "0        VfBHSwC5Vz_pbFluy07i9Q      5   \n",
       "1        3zRpneRKDsOPq92tq7ybAA      3   \n",
       "2        ne5WhI1jUFOcRn-b-gAzHA      3   \n",
       "3        llmdwOgDReucVoWEry61Lw      4   \n",
       "4        DuffS87NaSMDmIfluvT83g      5   \n",
       "5        GvLmUkjUrOyFH8KFnmT1uw      5   \n",
       "6        lGEl24NGj2HVBJrodeXcjg      4   \n",
       "7        cUgvEy5wj7zYE68v1BzzVg      4   \n",
       "8        FSB_BnvysBgH3JYrbFNcgw      4   \n",
       "9        dhl3ZW9aAEX_T7_um5tfaQ      4   \n",
       "10       JQJvnM3p-3eML05eKcTgiw      4   \n",
       "11       6JF4WfHgwYrrdZ2VeYtnFw      3   \n",
       "12       fbVYETRuWDw8QnpimpGMpg      4   \n",
       "13       lobj38NgaokqVseN8_nn6g      4   \n",
       "14       ysfjtAWreLoy7um8WTb8xA      5   \n",
       "15       OF1ToqGAubsWGri5iad15w      3   \n",
       "16       ByRzJ8rF2KJWLr-cUNU6EA      1   \n",
       "17       i5UwUPlQFPLcE8p2gPFwBw      4   \n",
       "18       EyQyvTTg2jX4or9bB8PC9g      5   \n",
       "19       G-EFA005besj5uHsH0sQFA      3   \n",
       "20       6PcJSGUBSLjt4VLXos5C4A      3   \n",
       "21       PFJmyZD_lNBa_Y3kbX1VvA      1   \n",
       "22       _Qv1FQUToLrKMuG6pV4Gzw      5   \n",
       "23       s2mlqrFNaPEGtcnEu3EJ4Q      4   \n",
       "24       oiSzZRrbi3y01_wqU528ZQ      1   \n",
       "25       4BPjRE9VI0HhyZzyyYv0BQ      2   \n",
       "26       kznHtw1Qido_9GX6sDQPJw      5   \n",
       "27       HWRTVn3Lc-RwN6udv4WJzQ      5   \n",
       "28       GiEB_A-m9HuX521WQNbL8w      4   \n",
       "29       GKi4i6qocIgaYcwv1_0zzQ      2   \n",
       "...                         ...    ...   \n",
       "4736867  HZD4iWgACQELMBZgPKciOA      4   \n",
       "4736868  plg7kmqAbIVS3YxYY88jgQ      4   \n",
       "4736869  TTrycA5Ytaj_hkTWm9cP-A      5   \n",
       "4736870  CX5K3fY0f2X7fzi0w1qDTA      4   \n",
       "4736871  xVKQUkhWIPKevs7ZVdn0ew      4   \n",
       "4736872  OnlrVLcCQG03jyQf_bgvPw      3   \n",
       "4736873  46D_tk-OIQS-jt3U8vN0pg      3   \n",
       "4736874  tmHCOLqAyiHtwDQlGTV9fQ      2   \n",
       "4736875  SSID6mEYfbvvJFV-oZUW-g      3   \n",
       "4736876  Bp3ZajPim_ASkLxVZeaG-Q      4   \n",
       "4736877  idyG-T6t6OHyvk3BOA42lw      4   \n",
       "4736878  4orEKdk9f3EwZb9pMKj_Qw      5   \n",
       "4736879  5JV4r1KIWerN3JViyMoC8A      3   \n",
       "4736880  _b815arWo9HRIwJTQj_F_g      5   \n",
       "4736881  KQpaVYToS4-NTAW4CzL3sA      5   \n",
       "4736882  KyyVA_I5rk8oeDA8Se-nyw      5   \n",
       "4736883  HHT_Kvtcn3YYw3Vbi55K3Q      4   \n",
       "4736884  WxEo3E-7nDzPAwRip828QA      5   \n",
       "4736885  RyWg5rJMd4_QBsItEFXFHA      2   \n",
       "4736886  -Kj48AkzcOz6N6uVMlVe_w      4   \n",
       "4736887  932NZmVXVvZa5UlAet6F-Q      4   \n",
       "4736888  m-4DuIwMOJ0vNdqGrKRGJw      5   \n",
       "4736889  SfkTYkJTwlNHkqbZr3ZOeQ      1   \n",
       "4736890  o40pVpXb_tH3Z1tcuX1egA      4   \n",
       "4736891  TCBD1pxrgJ3yTbQB2Q4NSQ      5   \n",
       "4736892  JRMc2ESqsYYHCMsMlWyx-Q      3   \n",
       "4736893  VW304lsvKZ5KgXHqt_V3wA      5   \n",
       "4736894  8gikTIY-HRdGg7FnRNldng      2   \n",
       "4736895  3BCbmgjBhro-RZQUjM0Xxg      5   \n",
       "4736896  zVqfgEqvIvLDpUc4hjTubw      5   \n",
       "\n",
       "                                                      text  useful  \\\n",
       "0        My girlfriend and I stayed here for 3 nights a...       0   \n",
       "1        If you need an inexpensive place to stay for a...       0   \n",
       "2        Mittlerweile gibt es in Edinburgh zwei Ableger...       0   \n",
       "3        Location is everything and this hotel has it! ...       0   \n",
       "4        gute lage im stadtzentrum. shoppingmeile und s...       0   \n",
       "5        Erstklassige Lage. Dazu ist alles geschrieben ...       0   \n",
       "6        Beautiful space, great location, staff rock. T...       0   \n",
       "7        This is a fairly new property I think. It is a...       0   \n",
       "8        First time at this group of hotels. Pretty new...       2   \n",
       "9        Location location location! \\n\\nMotel One is j...       2   \n",
       "10       A hotel that has all the basics that you'd nee...       1   \n",
       "11       Stayed here for two nights, costs was £109 per...       1   \n",
       "12       Well, i like the idea of Motel One. Always in ...       1   \n",
       "13       I really do love the Germans. This chain is sp...       1   \n",
       "14       Motel One sets the standard for budget hotels....       1   \n",
       "15       Had Continental style breakfast here a short d...       1   \n",
       "16       This place is horrible, we were so excited to ...       0   \n",
       "17       For being fairly \"fast\" food.. Pei Wei (pronou...       1   \n",
       "18       I decided to try it out, I'm celiac and theref...       2   \n",
       "19       I'm not saying Pei Wei is the best asian food ...       1   \n",
       "20       Sometimes the food is spot on and delicious an...       0   \n",
       "21       Decent customer service but the food was awful...       0   \n",
       "22       Super clean restaurant and friendly staff. FRE...       1   \n",
       "23       Found this the other night.  It is the PF Chan...       0   \n",
       "24       The staff here is great and they're nice,  won...       0   \n",
       "25       I had the garlic ginger broccoli chicken and i...       1   \n",
       "26       This review is based upon consistency of flavo...       0   \n",
       "27       I love this place i'd recommend it to anyone !...       1   \n",
       "28       1st! Place is not closed. There was an issue w...       1   \n",
       "29       Definitely not a fan. Coming from Orange Count...       0   \n",
       "...                                                    ...     ...   \n",
       "4736867  One of the best ramen ever! Really nice place,...       0   \n",
       "4736868  It was really good my only issue is that they ...       0   \n",
       "4736869  Ramen was delicious. Teriyaki was fresh and fl...       0   \n",
       "4736870  I ordered a Tonkotsu ramen, wonton chips and a...       1   \n",
       "4736871  Went on a Thursday night.\\nThick noodle, tonko...       1   \n",
       "4736872  This place looks cool but the food and service...       1   \n",
       "4736873  It's a cute spot to check out. Their corn was ...       0   \n",
       "4736874  If you are downtown this is the only ramen pla...       0   \n",
       "4736875  Standard ramen. Great way of naming dishes. Cu...       1   \n",
       "4736876  Ramen was good. Ambiance very hip. Service was...       0   \n",
       "4736877  Pleasantly cozy but modern... Good food and se...       0   \n",
       "4736878  So me and my daughter are ramen addicts and we...       0   \n",
       "4736879  For a trendy downtown spot, the food was a bit...      11   \n",
       "4736880  I really like this place. The variety of broth...       0   \n",
       "4736881  My umpteenth time coming back here! The new Me...       0   \n",
       "4736882  Note to self: If I'm vegetarian and order ever...       1   \n",
       "4736883  Had a party of 8 and had a great experience he...       0   \n",
       "4736884  Never had Ramen and Noodles but my friend want...       1   \n",
       "4736885  There are plenty of good Ramen houses in Vegas...       0   \n",
       "4736886  This place reminds me of a ramen house in Waik...       3   \n",
       "4736887  It's interesting concept to eat Japanese ramen...       0   \n",
       "4736888  First of all, I love ramen and I live in a cit...       0   \n",
       "4736889  Have come here every other week since they ope...       0   \n",
       "4736890  Although my love for ramen still stays with Mo...       0   \n",
       "4736891  Loved it. The staff was super friendly, the en...       0   \n",
       "4736892  Downtown LV is trying so hard to be Hipster ce...       4   \n",
       "4736893  After three days of working an anime conventio...       4   \n",
       "4736894  I'll give this place 2-stars as I'm all for su...       1   \n",
       "4736895  The vibe here is awesome. Great art & music. \\...       1   \n",
       "4736896  This place was amazing! It's a little past Fre...       0   \n",
       "\n",
       "                        user_id  \n",
       "0        cjpdDjZyprfyDG3RlkVG3w  \n",
       "1        bjTcT8Ty4cJZhEOEo01FGA  \n",
       "2        AXgRULmWcME7J6Ix3I--ww  \n",
       "3        oU2SSOmsp_A8JYI7Z2JJ5w  \n",
       "4        0xtbPEna2Kei11vsU-U2Mw  \n",
       "5        rW8q706dz5-NnXDzMwVkiw  \n",
       "6        yx8vNXUL0D0HS8rUIC7AFA  \n",
       "7        zXnH6W74FAJQ7q7b-NuBsA  \n",
       "8        c5yp5hxwC1N98MjbV2LyWQ  \n",
       "9        xJisL5w4wOgiYLokGMT_IA  \n",
       "10       tgV6tsYQ66DZ3LQKvtC6cw  \n",
       "11       Q-3YCVywc03w56wYtGlKvg  \n",
       "12       Cx4UCow0zQgFQOp47RRRaA  \n",
       "13       eqWEgMH-DCP74i82BEAZzw  \n",
       "14       d0DGZRp6lHXGECJSc_nn-A  \n",
       "15       IpLZ7RevQrFPJWYc9Gxymg  \n",
       "16       kzyLOqiJvyw_FWFTw2rjiQ  \n",
       "17       WZXp9-V2dqRRJqhGgRqueA  \n",
       "18       XylT12exfdLiI_3uDLVIpw  \n",
       "19       Ji9PeffxjwqPLO7pEfSpKQ  \n",
       "20       TLIWzAJPrET0zX4_vgvLhg  \n",
       "21       JZEiTNWBwmv6MOOXYCAaMQ  \n",
       "22       E56sVQT5-OWfSejJrma8_w  \n",
       "23       4WYICo4emecA9r7sPYQkBw  \n",
       "24       P8mVj7AZwJTFFH5FXbbmUg  \n",
       "25       7Y4NEBQqWg7j-TvrQi6UZQ  \n",
       "26       vgZqQqe8cj6SBMH0EqDliw  \n",
       "27       O7G_c6wFXSygr82qs0GAcA  \n",
       "28       UG4EKu13JRwzRix6ESINdg  \n",
       "29       ZZG6yR27lIy3xwUYVgHO7w  \n",
       "...                         ...  \n",
       "4736867  V26Q2FSvHLg4WHQsjY2MdQ  \n",
       "4736868  ZyM7HTlB0Lj0ik8uSPtvxw  \n",
       "4736869  6NlUuoTeWNgNqwpGqk3LrQ  \n",
       "4736870  CGpH6vTg8iYd8NA8acIBPw  \n",
       "4736871  _7PfR6Tvh2xTbiVi1GELoQ  \n",
       "4736872  7VsihmrVZJzUSL_VqjEfzA  \n",
       "4736873  w1uEa7272-ZXdiTm0aDM8A  \n",
       "4736874  Ijl7OMSDs5MiOhniXDnzcg  \n",
       "4736875  NKxB1Kyov0CsWtxaLQNzHA  \n",
       "4736876  TKlFGjkZ5nIR2FqAkgOeIw  \n",
       "4736877  LBDgOSBTPU68MQnxfZirlw  \n",
       "4736878  ZtW4ud-A5doXWgM5dOFaIg  \n",
       "4736879  bLbSNkLggFnqwNNzzq-Ijw  \n",
       "4736880  eurIEcpGa_tTi1LMWa1pUA  \n",
       "4736881  HO-OEQgDzGq3fOK5sQP5Lg  \n",
       "4736882  06o1DmiBoiyxI2q3v2QRbg  \n",
       "4736883  ewMjaBcblOOYChGj3XWkhA  \n",
       "4736884  SGgO8dvXq1GOL58jFtULhA  \n",
       "4736885  3roAGe7soqSOB5FVIcqO-Q  \n",
       "4736886  FAjCZoxiGw9HJKueB8YWTg  \n",
       "4736887  -Kv9DMBZGQyf2WSKDR7LwA  \n",
       "4736888  jFCt0lMNjo0obGjVXVHYUg  \n",
       "4736889  dupdGg3JQUkZb4LmSuxhtA  \n",
       "4736890  VacS9fgNkuZ3gDqDHViKuw  \n",
       "4736891  D7m9IRxlyGSsMeNu6jkGpQ  \n",
       "4736892  cQU8IWVEJYcklBJbW9CzdQ  \n",
       "4736893  7HOBCw1pTaZU5qcqwwNy3w  \n",
       "4736894  Q-ydrhfqmmOxRb38H6mmEQ  \n",
       "4736895  i6KWlHBp3WwnlBACWvrsUw  \n",
       "4736896  _zMsJzjl6fXHb9mmr1l9Wg  \n",
       "\n",
       "[4736897 rows x 9 columns]"
      ]
     },
     "execution_count": 4,
     "metadata": {},
     "output_type": "execute_result"
    }
   ],
   "source": [
    "for review_data in review_datas:\n",
    "    break\n",
    "review_data"
   ]
  },
  {
   "cell_type": "markdown",
   "metadata": {},
   "source": [
    "And viola! A pandas dataframe. Well that wasn't too hard, I think I like data science!"
   ]
  },
  {
   "cell_type": "markdown",
   "metadata": {},
   "source": [
    "## Data Processing"
   ]
  },
  {
   "cell_type": "markdown",
   "metadata": {},
   "source": [
    "Now comes the data processing part, in this stage of the data lifecycle we clean up and tidy the data so that we can begin to analyse it later on! It's during this stage that you also want to look out for anomalys or things that interest you in the data, like for instance, money spent by baseball franchise during the Oakland A's Moneyball period, or investigate if there exists a correlation between solar flares and Halos observed?"
   ]
  },
  {
   "cell_type": "markdown",
   "metadata": {},
   "source": [
    "<img src=\"three.png\">"
   ]
  },
  {
   "cell_type": "markdown",
   "metadata": {},
   "source": [
    "After looking at the Yelp dataset, one thing really caught our eyes. While Yelp is primarily a crowd-sourced review platform about local businesses, we were very suprised to discover that within the user dataset exists a column called \"Fans\". We were not familiar with Yelp as some social networking platform, so we attempted to uncover the truth behind Yelp's \"Fans\" functionaliy and figure out why someone would have many fans, or what would make someone want to be someone else's fan? \n",
    "\n",
    "\n",
    "\n",
    "Since our dataset is very large so we will remove any data not pertaining to our hypothesis. We choose to focus at users with more than 10 fans, any number less than that is just simply insignificant, in this way we can process the data to suit our exploratory needs."
   ]
  },
  {
   "cell_type": "code",
   "execution_count": 5,
   "metadata": {},
   "outputs": [
    {
     "data": {
      "text/html": [
       "<div>\n",
       "<style scoped>\n",
       "    .dataframe tbody tr th:only-of-type {\n",
       "        vertical-align: middle;\n",
       "    }\n",
       "\n",
       "    .dataframe tbody tr th {\n",
       "        vertical-align: top;\n",
       "    }\n",
       "\n",
       "    .dataframe thead th {\n",
       "        text-align: right;\n",
       "    }\n",
       "</style>\n",
       "<table border=\"1\" class=\"dataframe\">\n",
       "  <thead>\n",
       "    <tr style=\"text-align: right;\">\n",
       "      <th></th>\n",
       "      <th>fans</th>\n",
       "      <th>user_id</th>\n",
       "    </tr>\n",
       "  </thead>\n",
       "  <tbody>\n",
       "    <tr>\n",
       "      <th>0</th>\n",
       "      <td>209</td>\n",
       "      <td>lsSiIjAKVl-QRxKjRErBeg</td>\n",
       "    </tr>\n",
       "    <tr>\n",
       "      <th>1</th>\n",
       "      <td>835</td>\n",
       "      <td>om5ZiponkpRqUNa3pVPiRg</td>\n",
       "    </tr>\n",
       "    <tr>\n",
       "      <th>2</th>\n",
       "      <td>17</td>\n",
       "      <td>-lGwMGHMC_XihFJNKCJNRg</td>\n",
       "    </tr>\n",
       "    <tr>\n",
       "      <th>3</th>\n",
       "      <td>11</td>\n",
       "      <td>D-ydMTPGWXTVm4_jjp0k9g</td>\n",
       "    </tr>\n",
       "    <tr>\n",
       "      <th>4</th>\n",
       "      <td>49</td>\n",
       "      <td>PcvbBOCOcs6_suRDH7TSTg</td>\n",
       "    </tr>\n",
       "  </tbody>\n",
       "</table>\n",
       "</div>"
      ],
      "text/plain": [
       "   fans                 user_id\n",
       "0   209  lsSiIjAKVl-QRxKjRErBeg\n",
       "1   835  om5ZiponkpRqUNa3pVPiRg\n",
       "2    17  -lGwMGHMC_XihFJNKCJNRg\n",
       "3    11  D-ydMTPGWXTVm4_jjp0k9g\n",
       "4    49  PcvbBOCOcs6_suRDH7TSTg"
      ]
     },
     "execution_count": 5,
     "metadata": {},
     "output_type": "execute_result"
    }
   ],
   "source": [
    "user_col_to_remove = [col for col in user_data.columns if (col != 'fans' and col != 'user_id')]\n",
    "user_df = user_data.drop(columns=user_col_to_remove)\n",
    "user_df = user_df[user_df['fans'] > 10]\n",
    "user_df.head()"
   ]
  },
  {
   "cell_type": "markdown",
   "metadata": {},
   "source": [
    "For each User, Review, and Business dataframe we remove any columns not associated with our hypothesis, or in this case anything not having to do with number of fans or rating."
   ]
  },
  {
   "cell_type": "code",
   "execution_count": 6,
   "metadata": {},
   "outputs": [
    {
     "data": {
      "text/html": [
       "<div>\n",
       "<style scoped>\n",
       "    .dataframe tbody tr th:only-of-type {\n",
       "        vertical-align: middle;\n",
       "    }\n",
       "\n",
       "    .dataframe tbody tr th {\n",
       "        vertical-align: top;\n",
       "    }\n",
       "\n",
       "    .dataframe thead th {\n",
       "        text-align: right;\n",
       "    }\n",
       "</style>\n",
       "<table border=\"1\" class=\"dataframe\">\n",
       "  <thead>\n",
       "    <tr style=\"text-align: right;\">\n",
       "      <th></th>\n",
       "      <th>business_id</th>\n",
       "      <th>stars</th>\n",
       "      <th>user_id</th>\n",
       "    </tr>\n",
       "  </thead>\n",
       "  <tbody>\n",
       "    <tr>\n",
       "      <th>0</th>\n",
       "      <td>uYHaNptLzDLoV_JZ_MuzUA</td>\n",
       "      <td>5</td>\n",
       "      <td>cjpdDjZyprfyDG3RlkVG3w</td>\n",
       "    </tr>\n",
       "    <tr>\n",
       "      <th>1</th>\n",
       "      <td>uYHaNptLzDLoV_JZ_MuzUA</td>\n",
       "      <td>3</td>\n",
       "      <td>bjTcT8Ty4cJZhEOEo01FGA</td>\n",
       "    </tr>\n",
       "    <tr>\n",
       "      <th>2</th>\n",
       "      <td>uYHaNptLzDLoV_JZ_MuzUA</td>\n",
       "      <td>3</td>\n",
       "      <td>AXgRULmWcME7J6Ix3I--ww</td>\n",
       "    </tr>\n",
       "    <tr>\n",
       "      <th>3</th>\n",
       "      <td>uYHaNptLzDLoV_JZ_MuzUA</td>\n",
       "      <td>4</td>\n",
       "      <td>oU2SSOmsp_A8JYI7Z2JJ5w</td>\n",
       "    </tr>\n",
       "    <tr>\n",
       "      <th>4</th>\n",
       "      <td>uYHaNptLzDLoV_JZ_MuzUA</td>\n",
       "      <td>5</td>\n",
       "      <td>0xtbPEna2Kei11vsU-U2Mw</td>\n",
       "    </tr>\n",
       "  </tbody>\n",
       "</table>\n",
       "</div>"
      ],
      "text/plain": [
       "              business_id  stars                 user_id\n",
       "0  uYHaNptLzDLoV_JZ_MuzUA      5  cjpdDjZyprfyDG3RlkVG3w\n",
       "1  uYHaNptLzDLoV_JZ_MuzUA      3  bjTcT8Ty4cJZhEOEo01FGA\n",
       "2  uYHaNptLzDLoV_JZ_MuzUA      3  AXgRULmWcME7J6Ix3I--ww\n",
       "3  uYHaNptLzDLoV_JZ_MuzUA      4  oU2SSOmsp_A8JYI7Z2JJ5w\n",
       "4  uYHaNptLzDLoV_JZ_MuzUA      5  0xtbPEna2Kei11vsU-U2Mw"
      ]
     },
     "execution_count": 6,
     "metadata": {},
     "output_type": "execute_result"
    }
   ],
   "source": [
    "review_col_to_remove = [col for col in review_data.columns if (col != 'business_id' and col != 'stars' and col !='user_id')]\n",
    "review_df = review_data.drop(columns=review_col_to_remove)\n",
    "review_df.head()"
   ]
  },
  {
   "cell_type": "code",
   "execution_count": 7,
   "metadata": {},
   "outputs": [
    {
     "data": {
      "text/html": [
       "<div>\n",
       "<style scoped>\n",
       "    .dataframe tbody tr th:only-of-type {\n",
       "        vertical-align: middle;\n",
       "    }\n",
       "\n",
       "    .dataframe tbody tr th {\n",
       "        vertical-align: top;\n",
       "    }\n",
       "\n",
       "    .dataframe thead th {\n",
       "        text-align: right;\n",
       "    }\n",
       "</style>\n",
       "<table border=\"1\" class=\"dataframe\">\n",
       "  <thead>\n",
       "    <tr style=\"text-align: right;\">\n",
       "      <th></th>\n",
       "      <th>business_id</th>\n",
       "      <th>stars</th>\n",
       "    </tr>\n",
       "  </thead>\n",
       "  <tbody>\n",
       "    <tr>\n",
       "      <th>0</th>\n",
       "      <td>YDf95gJZaq05wvo7hTQbbQ</td>\n",
       "      <td>2.0</td>\n",
       "    </tr>\n",
       "    <tr>\n",
       "      <th>1</th>\n",
       "      <td>mLwM-h2YhXl2NCgdS84_Bw</td>\n",
       "      <td>4.5</td>\n",
       "    </tr>\n",
       "    <tr>\n",
       "      <th>2</th>\n",
       "      <td>v2WhjAB3PIBA8J8VxG3wEg</td>\n",
       "      <td>4.5</td>\n",
       "    </tr>\n",
       "    <tr>\n",
       "      <th>3</th>\n",
       "      <td>CVtCbSB1zUcUWg-9TNGTuQ</td>\n",
       "      <td>3.0</td>\n",
       "    </tr>\n",
       "    <tr>\n",
       "      <th>4</th>\n",
       "      <td>duHFBe87uNSXImQmvBh87Q</td>\n",
       "      <td>4.5</td>\n",
       "    </tr>\n",
       "  </tbody>\n",
       "</table>\n",
       "</div>"
      ],
      "text/plain": [
       "              business_id  stars\n",
       "0  YDf95gJZaq05wvo7hTQbbQ    2.0\n",
       "1  mLwM-h2YhXl2NCgdS84_Bw    4.5\n",
       "2  v2WhjAB3PIBA8J8VxG3wEg    4.5\n",
       "3  CVtCbSB1zUcUWg-9TNGTuQ    3.0\n",
       "4  duHFBe87uNSXImQmvBh87Q    4.5"
      ]
     },
     "execution_count": 7,
     "metadata": {},
     "output_type": "execute_result"
    }
   ],
   "source": [
    "business_col_to_remove = [col for col in business_data.columns if (col != 'business_id' and col != 'stars')]\n",
    "business_df = business_data.drop(columns=business_col_to_remove)\n",
    "business_df.head()"
   ]
  },
  {
   "cell_type": "code",
   "execution_count": 8,
   "metadata": {},
   "outputs": [],
   "source": [
    "df_merge = user_df.merge(review_df, how='inner', left_on='user_id', right_on='user_id')"
   ]
  },
  {
   "cell_type": "markdown",
   "metadata": {},
   "source": [
    "We merge the users and reviews dataframe so we can cross reference all user reviews with each users average rating and number of fans."
   ]
  },
  {
   "cell_type": "code",
   "execution_count": 9,
   "metadata": {},
   "outputs": [],
   "source": [
    "business_df.rename(columns={'stars': 'business_stars'}, inplace=True)"
   ]
  },
  {
   "cell_type": "code",
   "execution_count": 10,
   "metadata": {},
   "outputs": [],
   "source": [
    "merge_all = df_merge.merge(business_df, how='inner', left_on='business_id', right_on='business_id')"
   ]
  },
  {
   "cell_type": "markdown",
   "metadata": {},
   "source": [
    "Now we merge the business dataframe to the other two in order to cross reference the different reviews from each user pertaining to each business. "
   ]
  },
  {
   "cell_type": "code",
   "execution_count": 11,
   "metadata": {},
   "outputs": [
    {
     "data": {
      "text/html": [
       "<div>\n",
       "<style scoped>\n",
       "    .dataframe tbody tr th:only-of-type {\n",
       "        vertical-align: middle;\n",
       "    }\n",
       "\n",
       "    .dataframe tbody tr th {\n",
       "        vertical-align: top;\n",
       "    }\n",
       "\n",
       "    .dataframe thead th {\n",
       "        text-align: right;\n",
       "    }\n",
       "</style>\n",
       "<table border=\"1\" class=\"dataframe\">\n",
       "  <thead>\n",
       "    <tr style=\"text-align: right;\">\n",
       "      <th></th>\n",
       "      <th>fans</th>\n",
       "      <th>user_id</th>\n",
       "      <th>business_id</th>\n",
       "      <th>stars</th>\n",
       "      <th>business_stars</th>\n",
       "    </tr>\n",
       "  </thead>\n",
       "  <tbody>\n",
       "    <tr>\n",
       "      <th>0</th>\n",
       "      <td>209</td>\n",
       "      <td>lsSiIjAKVl-QRxKjRErBeg</td>\n",
       "      <td>J4CATH00YZrq8Bne2S4_cw</td>\n",
       "      <td>3</td>\n",
       "      <td>4.0</td>\n",
       "    </tr>\n",
       "    <tr>\n",
       "      <th>1</th>\n",
       "      <td>17</td>\n",
       "      <td>N2arP_u4sMGLgOZhA6ZFoQ</td>\n",
       "      <td>J4CATH00YZrq8Bne2S4_cw</td>\n",
       "      <td>5</td>\n",
       "      <td>4.0</td>\n",
       "    </tr>\n",
       "    <tr>\n",
       "      <th>2</th>\n",
       "      <td>13</td>\n",
       "      <td>tjufYqU4PWkP2j6vAFsCFw</td>\n",
       "      <td>J4CATH00YZrq8Bne2S4_cw</td>\n",
       "      <td>5</td>\n",
       "      <td>4.0</td>\n",
       "    </tr>\n",
       "    <tr>\n",
       "      <th>3</th>\n",
       "      <td>22</td>\n",
       "      <td>XHHUypDIxHvykpqd7pjydw</td>\n",
       "      <td>J4CATH00YZrq8Bne2S4_cw</td>\n",
       "      <td>4</td>\n",
       "      <td>4.0</td>\n",
       "    </tr>\n",
       "    <tr>\n",
       "      <th>4</th>\n",
       "      <td>13</td>\n",
       "      <td>zMLbjqeTqp83g0uIAk0SWg</td>\n",
       "      <td>J4CATH00YZrq8Bne2S4_cw</td>\n",
       "      <td>5</td>\n",
       "      <td>4.0</td>\n",
       "    </tr>\n",
       "  </tbody>\n",
       "</table>\n",
       "</div>"
      ],
      "text/plain": [
       "   fans                 user_id             business_id  stars  business_stars\n",
       "0   209  lsSiIjAKVl-QRxKjRErBeg  J4CATH00YZrq8Bne2S4_cw      3             4.0\n",
       "1    17  N2arP_u4sMGLgOZhA6ZFoQ  J4CATH00YZrq8Bne2S4_cw      5             4.0\n",
       "2    13  tjufYqU4PWkP2j6vAFsCFw  J4CATH00YZrq8Bne2S4_cw      5             4.0\n",
       "3    22  XHHUypDIxHvykpqd7pjydw  J4CATH00YZrq8Bne2S4_cw      4             4.0\n",
       "4    13  zMLbjqeTqp83g0uIAk0SWg  J4CATH00YZrq8Bne2S4_cw      5             4.0"
      ]
     },
     "execution_count": 11,
     "metadata": {},
     "output_type": "execute_result"
    }
   ],
   "source": [
    "merge_all.head()"
   ]
  },
  {
   "cell_type": "markdown",
   "metadata": {},
   "source": [
    "## Exploratory Data Analysis and Vizualization"
   ]
  },
  {
   "cell_type": "markdown",
   "metadata": {},
   "source": [
    "Now this is where the fun really starts! We collected the data, we cleaned the data, we processed the data, now its time to start probing the data and figuring out what we can learn from this data! "
   ]
  },
  {
   "cell_type": "markdown",
   "metadata": {},
   "source": [
    "<img src=\"four.png\">"
   ]
  },
  {
   "cell_type": "markdown",
   "metadata": {},
   "source": [
    "After all the processing in the previous step, we formulated a loose hypothesis. We now argue that if one user's personal rating of a business is close to the actual rating of the business this would be a good reason to be this users fan, for the same reason that people follow youtube personalities and popular reviewers. So we are expecting to see a positive correlation between how close the user's rating is to the actual rating of the business and to the number of fans that that user has."
   ]
  },
  {
   "cell_type": "code",
   "execution_count": 12,
   "metadata": {},
   "outputs": [],
   "source": [
    "max_fans = np.max(merge_all['fans'])\n",
    "bins = np.linspace(0, max_fans, num=10)\n",
    "bins = [0, 200, 400, 600, 800, 1000, 1200, 1400, 1600, 1800, 2000, max_fans]\n",
    "merge_all['fans_class'] = pd.cut(merge_all['fans'], bins=bins, include_lowest=True, right=True)"
   ]
  },
  {
   "cell_type": "markdown",
   "metadata": {},
   "source": [
    "In order to better understand the amount of fans our users have, we divide the users into bins based on their amount of fans."
   ]
  },
  {
   "cell_type": "code",
   "execution_count": 13,
   "metadata": {},
   "outputs": [
    {
     "data": {
      "text/plain": [
       "fans_class\n",
       "(-0.001, 200.0]     713684\n",
       "(200.0, 400.0]       24367\n",
       "(400.0, 600.0]       14085\n",
       "(600.0, 800.0]        3990\n",
       "(800.0, 1000.0]        845\n",
       "(1000.0, 1200.0]       173\n",
       "(1200.0, 1400.0]       313\n",
       "(1400.0, 1600.0]       126\n",
       "(1600.0, 1800.0]       127\n",
       "(1800.0, 2000.0]        76\n",
       "(2000.0, 6087.0]        32\n",
       "dtype: int64"
      ]
     },
     "execution_count": 13,
     "metadata": {},
     "output_type": "execute_result"
    }
   ],
   "source": [
    "merge_all.groupby('fans_class').size()"
   ]
  },
  {
   "cell_type": "markdown",
   "metadata": {},
   "source": [
    "Now that we see the actual distribution of fans among users, we can obtain the difference between each users personal rating and the business's rating."
   ]
  },
  {
   "cell_type": "code",
   "execution_count": 14,
   "metadata": {},
   "outputs": [],
   "source": [
    "merge_all['user_vs_bus'] = (merge_all['stars']-merge_all['business_stars']).apply(lambda x : math.fabs(x))"
   ]
  },
  {
   "cell_type": "code",
   "execution_count": 15,
   "metadata": {},
   "outputs": [
    {
     "data": {
      "text/html": [
       "<div>\n",
       "<style scoped>\n",
       "    .dataframe tbody tr th:only-of-type {\n",
       "        vertical-align: middle;\n",
       "    }\n",
       "\n",
       "    .dataframe tbody tr th {\n",
       "        vertical-align: top;\n",
       "    }\n",
       "\n",
       "    .dataframe thead th {\n",
       "        text-align: right;\n",
       "    }\n",
       "</style>\n",
       "<table border=\"1\" class=\"dataframe\">\n",
       "  <thead>\n",
       "    <tr style=\"text-align: right;\">\n",
       "      <th></th>\n",
       "      <th>fans</th>\n",
       "      <th>user_id</th>\n",
       "      <th>business_id</th>\n",
       "      <th>stars</th>\n",
       "      <th>business_stars</th>\n",
       "      <th>fans_class</th>\n",
       "      <th>user_vs_bus</th>\n",
       "    </tr>\n",
       "  </thead>\n",
       "  <tbody>\n",
       "    <tr>\n",
       "      <th>0</th>\n",
       "      <td>209</td>\n",
       "      <td>lsSiIjAKVl-QRxKjRErBeg</td>\n",
       "      <td>J4CATH00YZrq8Bne2S4_cw</td>\n",
       "      <td>3</td>\n",
       "      <td>4.0</td>\n",
       "      <td>(200.0, 400.0]</td>\n",
       "      <td>1.0</td>\n",
       "    </tr>\n",
       "    <tr>\n",
       "      <th>1</th>\n",
       "      <td>17</td>\n",
       "      <td>N2arP_u4sMGLgOZhA6ZFoQ</td>\n",
       "      <td>J4CATH00YZrq8Bne2S4_cw</td>\n",
       "      <td>5</td>\n",
       "      <td>4.0</td>\n",
       "      <td>(-0.001, 200.0]</td>\n",
       "      <td>1.0</td>\n",
       "    </tr>\n",
       "    <tr>\n",
       "      <th>2</th>\n",
       "      <td>13</td>\n",
       "      <td>tjufYqU4PWkP2j6vAFsCFw</td>\n",
       "      <td>J4CATH00YZrq8Bne2S4_cw</td>\n",
       "      <td>5</td>\n",
       "      <td>4.0</td>\n",
       "      <td>(-0.001, 200.0]</td>\n",
       "      <td>1.0</td>\n",
       "    </tr>\n",
       "    <tr>\n",
       "      <th>3</th>\n",
       "      <td>22</td>\n",
       "      <td>XHHUypDIxHvykpqd7pjydw</td>\n",
       "      <td>J4CATH00YZrq8Bne2S4_cw</td>\n",
       "      <td>4</td>\n",
       "      <td>4.0</td>\n",
       "      <td>(-0.001, 200.0]</td>\n",
       "      <td>0.0</td>\n",
       "    </tr>\n",
       "    <tr>\n",
       "      <th>4</th>\n",
       "      <td>13</td>\n",
       "      <td>zMLbjqeTqp83g0uIAk0SWg</td>\n",
       "      <td>J4CATH00YZrq8Bne2S4_cw</td>\n",
       "      <td>5</td>\n",
       "      <td>4.0</td>\n",
       "      <td>(-0.001, 200.0]</td>\n",
       "      <td>1.0</td>\n",
       "    </tr>\n",
       "  </tbody>\n",
       "</table>\n",
       "</div>"
      ],
      "text/plain": [
       "   fans                 user_id             business_id  stars  \\\n",
       "0   209  lsSiIjAKVl-QRxKjRErBeg  J4CATH00YZrq8Bne2S4_cw      3   \n",
       "1    17  N2arP_u4sMGLgOZhA6ZFoQ  J4CATH00YZrq8Bne2S4_cw      5   \n",
       "2    13  tjufYqU4PWkP2j6vAFsCFw  J4CATH00YZrq8Bne2S4_cw      5   \n",
       "3    22  XHHUypDIxHvykpqd7pjydw  J4CATH00YZrq8Bne2S4_cw      4   \n",
       "4    13  zMLbjqeTqp83g0uIAk0SWg  J4CATH00YZrq8Bne2S4_cw      5   \n",
       "\n",
       "   business_stars       fans_class  user_vs_bus  \n",
       "0             4.0   (200.0, 400.0]          1.0  \n",
       "1             4.0  (-0.001, 200.0]          1.0  \n",
       "2             4.0  (-0.001, 200.0]          1.0  \n",
       "3             4.0  (-0.001, 200.0]          0.0  \n",
       "4             4.0  (-0.001, 200.0]          1.0  "
      ]
     },
     "execution_count": 15,
     "metadata": {},
     "output_type": "execute_result"
    }
   ],
   "source": [
    "merge_all.head()"
   ]
  },
  {
   "cell_type": "markdown",
   "metadata": {},
   "source": [
    "Now we group the users according to the number of fans they have and acquire the average of the differences between the users versus the business's review."
   ]
  },
  {
   "cell_type": "code",
   "execution_count": 16,
   "metadata": {},
   "outputs": [],
   "source": [
    "dt_bus_vs_user = merge_all.groupby('fans_class')['user_vs_bus'].mean()"
   ]
  },
  {
   "cell_type": "code",
   "execution_count": 17,
   "metadata": {},
   "outputs": [
    {
     "data": {
      "text/plain": [
       "fans_class\n",
       "(-0.001, 200.0]     0.762726\n",
       "(200.0, 400.0]      0.678910\n",
       "(400.0, 600.0]      0.657047\n",
       "(600.0, 800.0]      0.662657\n",
       "(800.0, 1000.0]     0.640237\n",
       "(1000.0, 1200.0]    0.569364\n",
       "(1200.0, 1400.0]    0.680511\n",
       "(1400.0, 1600.0]    0.646825\n",
       "(1600.0, 1800.0]    0.751969\n",
       "(1800.0, 2000.0]    0.802632\n",
       "(2000.0, 6087.0]    0.671875\n",
       "Name: user_vs_bus, dtype: float64"
      ]
     },
     "execution_count": 17,
     "metadata": {},
     "output_type": "execute_result"
    }
   ],
   "source": [
    "dt_bus_vs_user"
   ]
  },
  {
   "cell_type": "markdown",
   "metadata": {},
   "source": [
    "Now for the visual part of Data Visualization:"
   ]
  },
  {
   "cell_type": "code",
   "execution_count": 54,
   "metadata": {},
   "outputs": [
    {
     "data": {
      "image/png": "[encoded data removed]",
      "text/plain": [
       "<matplotlib.figure.Figure at 0x5326a51d0>"
      ]
     },
     "metadata": {},
     "output_type": "display_data"
    }
   ],
   "source": [
    "dt_bus_vs_user.plot.bar()\n",
    "plt.gcf().set_size_inches(20, 10, forward=True)\n",
    "plt.xlabel('Number of Fans')\n",
    "plt.ylabel('Distance')\n",
    "plt.title('Distance betweem User\\'s rating to average Bussiness\\'s rating')\n",
    "plt.show()"
   ]
  },
  {
   "cell_type": "markdown",
   "metadata": {},
   "source": [
    "Taking a closer look at the bar plot above, we notice something interesting. Our hypothesis tried to prove that as the number of fans increases, the users rating is closer to the business's actual rating, but we can see that starting with users that have number of fans somewhere between 1000-1200, the error actually grows. So we can conclude that the number of fans is not necessarily driven by how close the users rating is compare to the actual rating.\n",
    "\n",
    "So what other user attributes lead someone to have alot of fans? Well then lets keep the good times going and figure it out, but before we do that lets split our data up into bins based on the number of fans they have, that way it will be easier to visualize the our results.  "
   ]
  },
  {
   "cell_type": "code",
   "execution_count": 19,
   "metadata": {},
   "outputs": [],
   "source": [
    "#Adding the fans_class to the main user dataframe\n",
    "max_fans = np.max(user_data['fans'])\n",
    "bins = np.linspace(0, max_fans, num=10)\n",
    "bins = [0, 200, 400, 600, 800, 1000, 1200, 1400, 1600, 1800, 2000, max_fans]\n",
    "user_data['fans_class'] = pd.cut(user_data['fans'], bins=bins, include_lowest=True, right=True)"
   ]
  },
  {
   "cell_type": "markdown",
   "metadata": {},
   "source": [
    "Before we delve in further, lets check the correlations between our different attributes."
   ]
  },
  {
   "cell_type": "code",
   "execution_count": 20,
   "metadata": {},
   "outputs": [
    {
     "data": {
      "text/html": [
       "<div>\n",
       "<style scoped>\n",
       "    .dataframe tbody tr th:only-of-type {\n",
       "        vertical-align: middle;\n",
       "    }\n",
       "\n",
       "    .dataframe tbody tr th {\n",
       "        vertical-align: top;\n",
       "    }\n",
       "\n",
       "    .dataframe thead th {\n",
       "        text-align: right;\n",
       "    }\n",
       "</style>\n",
       "<table border=\"1\" class=\"dataframe\">\n",
       "  <thead>\n",
       "    <tr style=\"text-align: right;\">\n",
       "      <th></th>\n",
       "      <th>fans</th>\n",
       "      <th>funny</th>\n",
       "      <th>review_count</th>\n",
       "      <th>useful</th>\n",
       "      <th>cool</th>\n",
       "    </tr>\n",
       "  </thead>\n",
       "  <tbody>\n",
       "    <tr>\n",
       "      <th>fans</th>\n",
       "      <td>1.000000</td>\n",
       "      <td>0.153339</td>\n",
       "      <td>0.435410</td>\n",
       "      <td>0.493583</td>\n",
       "      <td>0.525660</td>\n",
       "    </tr>\n",
       "    <tr>\n",
       "      <th>funny</th>\n",
       "      <td>0.153339</td>\n",
       "      <td>1.000000</td>\n",
       "      <td>0.448898</td>\n",
       "      <td>0.673192</td>\n",
       "      <td>0.780342</td>\n",
       "    </tr>\n",
       "    <tr>\n",
       "      <th>review_count</th>\n",
       "      <td>0.435410</td>\n",
       "      <td>0.448898</td>\n",
       "      <td>1.000000</td>\n",
       "      <td>0.537248</td>\n",
       "      <td>0.539936</td>\n",
       "    </tr>\n",
       "    <tr>\n",
       "      <th>useful</th>\n",
       "      <td>0.493583</td>\n",
       "      <td>0.673192</td>\n",
       "      <td>0.537248</td>\n",
       "      <td>1.000000</td>\n",
       "      <td>0.962144</td>\n",
       "    </tr>\n",
       "    <tr>\n",
       "      <th>cool</th>\n",
       "      <td>0.525660</td>\n",
       "      <td>0.780342</td>\n",
       "      <td>0.539936</td>\n",
       "      <td>0.962144</td>\n",
       "      <td>1.000000</td>\n",
       "    </tr>\n",
       "  </tbody>\n",
       "</table>\n",
       "</div>"
      ],
      "text/plain": [
       "                  fans     funny  review_count    useful      cool\n",
       "fans          1.000000  0.153339      0.435410  0.493583  0.525660\n",
       "funny         0.153339  1.000000      0.448898  0.673192  0.780342\n",
       "review_count  0.435410  0.448898      1.000000  0.537248  0.539936\n",
       "useful        0.493583  0.673192      0.537248  1.000000  0.962144\n",
       "cool          0.525660  0.780342      0.539936  0.962144  1.000000"
      ]
     },
     "execution_count": 20,
     "metadata": {},
     "output_type": "execute_result"
    }
   ],
   "source": [
    "dt = user_data.groupby('fans_class')[['fans', 'funny', 'review_count', 'useful', 'cool']].mean()\n",
    "dt.corr()"
   ]
  },
  {
   "cell_type": "markdown",
   "metadata": {},
   "source": [
    "So lets take a look at the funny attribute, would reviews that are rated as funny be necesarily be higher?"
   ]
  },
  {
   "cell_type": "code",
   "execution_count": 57,
   "metadata": {
    "scrolled": false
   },
   "outputs": [
    {
     "data": {
      "image/png": "[encoded data removed]",
      "text/plain": [
       "<matplotlib.figure.Figure at 0x5290e7ad0>"
      ]
     },
     "metadata": {},
     "output_type": "display_data"
    }
   ],
   "source": [
    "dt_funny = user_data.groupby('fans_class')['funny'].mean()\n",
    "dt_funny.plot.bar()\n",
    "plt.gcf().set_size_inches(20, 10, forward=True)\n",
    "plt.xlabel('Number of fans')\n",
    "plt.ylabel('Comments found funny')\n",
    "plt.title('Number of funny comments vs number of fans')\n",
    "plt.show()"
   ]
  },
  {
   "cell_type": "markdown",
   "metadata": {},
   "source": [
    "As seen above, there is no real correlation between the number of fans a user has and their ability to make sick jokes and create dank memes. Although it seems that users who have between 1800-2000 fans are incredibly funny. Interesting.\n",
    "\n",
    "Okay, now lets see if their is a correlation between useful reviews and number of fans."
   ]
  },
  {
   "cell_type": "code",
   "execution_count": 56,
   "metadata": {},
   "outputs": [
    {
     "data": {
      "image/png": "[encoded data removed]",
      "text/plain": [
       "<matplotlib.figure.Figure at 0x42a4d7250>"
      ]
     },
     "metadata": {},
     "output_type": "display_data"
    }
   ],
   "source": [
    "dt_useful = user_data.groupby('fans_class')['useful'].mean()\n",
    "dt_useful.plot.bar()\n",
    "plt.gcf().set_size_inches(20, 10, forward=True)\n",
    "plt.xlabel('Number of fans')\n",
    "plt.ylabel('Useful count')\n",
    "plt.title('Useful count vs number of fans')\n",
    "plt.show()"
   ]
  },
  {
   "cell_type": "markdown",
   "metadata": {},
   "source": [
    "Although we get slightly better results compared to the correlation between funny and the number of fans, the results still do not indicate correlation. It seems there is some correlation until we reach users with fans over 1400, that's an interesting point. Well, lets keep going!\n",
    "\n",
    "I wonder if the number of reviews a certain user has indicates the number of fans he or she has...."
   ]
  },
  {
   "cell_type": "code",
   "execution_count": 59,
   "metadata": {},
   "outputs": [
    {
     "data": {
      "image/png": "[encoded data removed]",
      "text/plain": [
       "<matplotlib.figure.Figure at 0x64cf0fbd0>"
      ]
     },
     "metadata": {},
     "output_type": "display_data"
    }
   ],
   "source": [
    "dt_count = user_data.groupby('fans_class')['review_count'].mean()\n",
    "dt_count.plot.bar()\n",
    "plt.gcf().set_size_inches(20, 10, forward=True)\n",
    "plt.xlabel('Number of fans')\n",
    "plt.ylabel('Review count')\n",
    "plt.title('Review count vs review count')\n",
    "plt.show()"
   ]
  },
  {
   "cell_type": "markdown",
   "metadata": {},
   "source": [
    "There is no explicit correlation, so this is still not good enough for us, we're real sticklers for correlations in our data!\n",
    "\n",
    "Lets check if the number of friends a user has affects the number of fans, I'm guessing that there will be a strong correlation between the two, cause after all, who doesn't want to follow Mr. Popular?"
   ]
  },
  {
   "cell_type": "code",
   "execution_count": 58,
   "metadata": {},
   "outputs": [
    {
     "data": {
      "image/png": "[encoded data removed]",
      "text/plain": [
       "<matplotlib.figure.Figure at 0x42a4c4190>"
      ]
     },
     "metadata": {},
     "output_type": "display_data"
    }
   ],
   "source": [
    "dt_friends = user_data.groupby('fans_class').apply(lambda x : np.sum(len(y) for y in x['friends'])/float(len(x)))\n",
    "dt_friends.plot.bar()\n",
    "plt.gcf().set_size_inches(20, 10, forward=True)\n",
    "plt.xlabel('Number of fans')\n",
    "plt.ylabel('Number of friends')\n",
    "plt.title('Number of friends vs number of fans')\n",
    "plt.show()"
   ]
  },
  {
   "cell_type": "markdown",
   "metadata": {},
   "source": [
    "As we guessed it.... this bar plot indicates a very strong correlation between the number of friends a user has to the number of fans they have... surprise, surprise."
   ]
  },
  {
   "cell_type": "markdown",
   "metadata": {},
   "source": [
    "## Analysis, Hypothesis Testing, and ML"
   ]
  },
  {
   "cell_type": "markdown",
   "metadata": {},
   "source": [
    "Now that we explored some of the hidden correlations in our data we can start developing our analysis and testing our hypothesis with a little thing called machine learning. Applying machine learning to our dataset will allow us to predict certain dimensions of our data set. We will apply a supervised machine learning algorithm, which means that our algorithm will use data that is labeled and classified in order to make predictions about the data."
   ]
  },
  {
   "cell_type": "markdown",
   "metadata": {},
   "source": [
    "<img src=\"five.png\">"
   ]
  },
  {
   "cell_type": "markdown",
   "metadata": {},
   "source": [
    "In our previous step we were able to find different correlations that explained why a user would have a certain amount of fans. The two strongest correlations we found were the number of reviews a user has and the number of friends a user has. The friends to fans correlation is obvious, so lets look at the reviews themselves and see what in a review makes a certain review \"cool\", \"funny\", or \"useful\", thus giving a user more fans. Here we can apply a machine learning algorithm to analyze the actual reviews themselves and make certain predictions, how in the world do you do that, you ask? Well lets figure it out together....\n",
    "\n",
    "In order to assess what makes a certain review \"cool\", \"funny\" or \"useful\", we would need to use NLP (natural langauge processing), which we will. However we will need to simplify our problem, yet it will still be very difficult. We will explore ways to predict a user's rating for a business based solely on analyzing the text of his or her review. "
   ]
  },
  {
   "cell_type": "markdown",
   "metadata": {},
   "source": [
    "### Feature Finding\n",
    "\n",
    "We start off by looking for features in the text that could help us determine the user's rating.\n",
    "\n",
    "So first lets investigate the text size of user's reviews and see if we can find a pattern or correlation of any kind to the rating, and hopefully this will be one of our features."
   ]
  },
  {
   "cell_type": "code",
   "execution_count": 29,
   "metadata": {},
   "outputs": [],
   "source": [
    "review_data['text length'] = review_data['text'].apply(len)"
   ]
  },
  {
   "cell_type": "code",
   "execution_count": 30,
   "metadata": {
    "scrolled": true
   },
   "outputs": [
    {
     "data": {
      "text/plain": [
       "<seaborn.axisgrid.FacetGrid at 0x5271f5210>"
      ]
     },
     "execution_count": 30,
     "metadata": {},
     "output_type": "execute_result"
    },
    {
     "data": {
      "image/png": "[encoded data removed]",
      "text/plain": [
       "<matplotlib.figure.Figure at 0x5271f5d50>"
      ]
     },
     "metadata": {},
     "output_type": "display_data"
    }
   ],
   "source": [
    "g = sns.FacetGrid(data=review_data, col='stars')\n",
    "g.map(plt.hist, 'text length', bins=50)"
   ]
  },
  {
   "cell_type": "markdown",
   "metadata": {},
   "source": [
    "As shown above, the distribution is similar across the ratings, so there is no concrete evidence that length matters, although we see that there is a higher distributional mass for the 5th rating, however this is the result of the greater number of 5 star ratings, lets break it down."
   ]
  },
  {
   "cell_type": "code",
   "execution_count": 31,
   "metadata": {},
   "outputs": [
    {
     "data": {
      "text/plain": [
       "<matplotlib.axes._subplots.AxesSubplot at 0x523cc6710>"
      ]
     },
     "execution_count": 31,
     "metadata": {},
     "output_type": "execute_result"
    },
    {
     "data": {
      "image/png": "[encoded data removed]",
      "text/plain": [
       "<matplotlib.figure.Figure at 0x5270190d0>"
      ]
     },
     "metadata": {},
     "output_type": "display_data"
    }
   ],
   "source": [
    "star_counter = review_data.groupby('stars').count()\n",
    "sns.barplot(x=star_counter.index, y='review_id', data=star_counter)"
   ]
  },
  {
   "cell_type": "markdown",
   "metadata": {},
   "source": [
    "Looking at our breakdown, 5 star reviews are the largest portion of the ratings by far, coinciding with our previous findings.\n",
    "\n",
    "Now we will look at the number of words in each review and see if theres is a correlation to the ratings of reviews."
   ]
  },
  {
   "cell_type": "code",
   "execution_count": 32,
   "metadata": {},
   "outputs": [],
   "source": [
    "from nltk.tokenize import RegexpTokenizer\n",
    "#tokens by words\n",
    "tokenizer = RegexpTokenizer(r'\\w+')\n",
    "#a function, that given text, returns the amount of words.\n",
    "func = lambda x: len(tokenizer.tokenize(x))\n",
    "#applying the word counter to our text and saving it as a column\n",
    "review_data['word length'] = review_data['text'].apply(func)\n"
   ]
  },
  {
   "cell_type": "code",
   "execution_count": 33,
   "metadata": {},
   "outputs": [
    {
     "data": {
      "text/plain": [
       "<seaborn.axisgrid.FacetGrid at 0x5c108a810>"
      ]
     },
     "execution_count": 33,
     "metadata": {},
     "output_type": "execute_result"
    },
    {
     "data": {
      "image/png": "[encoded data removed]",
      "text/plain": [
       "<matplotlib.figure.Figure at 0x5267bc150>"
      ]
     },
     "metadata": {},
     "output_type": "display_data"
    }
   ],
   "source": [
    "g = sns.FacetGrid(data=review_data, col='stars')\n",
    "g.map(plt.hist, 'word length', bins=20)"
   ]
  },
  {
   "cell_type": "markdown",
   "metadata": {},
   "source": [
    "We notice a striking resemblance to the text length plots that we previously ran. This indicates that there is nothing special we can do with this data to test our hypothesis, So the size of the text or the amount of words dont indicate much about the rating, but maybe a user who uses more eloquent and developed vocabulary rates higher consistently. Which probably means longer words, so lets check the average size of words per review..."
   ]
  },
  {
   "cell_type": "code",
   "execution_count": 63,
   "metadata": {},
   "outputs": [],
   "source": [
    "warnings.filterwarnings(\"ignore\")\n",
    "#given a text this returns the average word length\n",
    "func = lambda x: np.mean(list(map(lambda y: len(y), tokenizer.tokenize(x))))\n",
    "review_data['average word length'] = review_data['text'].apply(func)"
   ]
  },
  {
   "cell_type": "code",
   "execution_count": 35,
   "metadata": {},
   "outputs": [
    {
     "data": {
      "text/plain": [
       "<matplotlib.axes._subplots.AxesSubplot at 0x5310b4b90>"
      ]
     },
     "execution_count": 35,
     "metadata": {},
     "output_type": "execute_result"
    },
    {
     "data": {
      "image/png": "[encoded data removed]",
      "text/plain": [
       "<matplotlib.figure.Figure at 0x5b9d8ce50>"
      ]
     },
     "metadata": {},
     "output_type": "display_data"
    }
   ],
   "source": [
    "star_avg_words = review_data.groupby('stars')['average word length'].mean()\n",
    "sns.boxplot(x='stars', y='average word length', data=review_data)"
   ]
  },
  {
   "cell_type": "markdown",
   "metadata": {},
   "source": [
    "Looking at the boxplot above we see something quite odd, is it possible that a review could have an average word length of more 350 letters? Now I'm curios, lets take a look at what this magical word may be."
   ]
  },
  {
   "cell_type": "code",
   "execution_count": 36,
   "metadata": {},
   "outputs": [
    {
     "data": {
      "text/plain": [
       "business_id                                       7mGZrCzGGjS95SdRtEaGcQ\n",
       "cool                                                                  17\n",
       "date                                                 2009-05-04 00:00:00\n",
       "funny                                                                 25\n",
       "review_id                                         gzHFIfWgiqnMIQG0NDHWQA\n",
       "stars                                                                  5\n",
       "text                   mmmmmmmmmmmmmmmmmmmmmmmmmmwowmmmmmmmmmmmmmmmmm...\n",
       "useful                                                                17\n",
       "user_id                                           QuZbJquRtbY9O9JrB9NpxQ\n",
       "text length                                                         1727\n",
       "word length                                                            5\n",
       "average word length                                                344.6\n",
       "Name: 43464, dtype: object"
      ]
     },
     "execution_count": 36,
     "metadata": {},
     "output_type": "execute_result"
    }
   ],
   "source": [
    "review_data['average word length'].idxmax()\n",
    "review_data.iloc()[review_data['average word length'].idxmax()]"
   ]
  },
  {
   "cell_type": "markdown",
   "metadata": {},
   "source": [
    "Looks like someone fell asleep on their keyboard... or maybe its a review for a keyboard with no space bar? Anyways this is an outlier to our data and should probably be removed to so that we could continue correctly analyzing our data."
   ]
  },
  {
   "cell_type": "code",
   "execution_count": 37,
   "metadata": {},
   "outputs": [
    {
     "data": {
      "text/html": [
       "<div>\n",
       "<style scoped>\n",
       "    .dataframe tbody tr th:only-of-type {\n",
       "        vertical-align: middle;\n",
       "    }\n",
       "\n",
       "    .dataframe tbody tr th {\n",
       "        vertical-align: top;\n",
       "    }\n",
       "\n",
       "    .dataframe thead th {\n",
       "        text-align: right;\n",
       "    }\n",
       "</style>\n",
       "<table border=\"1\" class=\"dataframe\">\n",
       "  <thead>\n",
       "    <tr style=\"text-align: right;\">\n",
       "      <th></th>\n",
       "      <th>count</th>\n",
       "      <th>mean</th>\n",
       "      <th>std</th>\n",
       "      <th>min</th>\n",
       "      <th>25%</th>\n",
       "      <th>50%</th>\n",
       "      <th>75%</th>\n",
       "      <th>max</th>\n",
       "    </tr>\n",
       "    <tr>\n",
       "      <th>stars</th>\n",
       "      <th></th>\n",
       "      <th></th>\n",
       "      <th></th>\n",
       "      <th></th>\n",
       "      <th></th>\n",
       "      <th></th>\n",
       "      <th></th>\n",
       "      <th></th>\n",
       "    </tr>\n",
       "  </thead>\n",
       "  <tbody>\n",
       "    <tr>\n",
       "      <th>1</th>\n",
       "      <td>639848.0</td>\n",
       "      <td>4.099264</td>\n",
       "      <td>0.350434</td>\n",
       "      <td>1.0</td>\n",
       "      <td>3.887755</td>\n",
       "      <td>4.062500</td>\n",
       "      <td>4.262141</td>\n",
       "      <td>44.000000</td>\n",
       "    </tr>\n",
       "    <tr>\n",
       "      <th>2</th>\n",
       "      <td>402393.0</td>\n",
       "      <td>4.112626</td>\n",
       "      <td>0.330334</td>\n",
       "      <td>1.0</td>\n",
       "      <td>3.912281</td>\n",
       "      <td>4.079208</td>\n",
       "      <td>4.267442</td>\n",
       "      <td>17.333333</td>\n",
       "    </tr>\n",
       "    <tr>\n",
       "      <th>3</th>\n",
       "      <td>570819.0</td>\n",
       "      <td>4.125182</td>\n",
       "      <td>0.364668</td>\n",
       "      <td>1.0</td>\n",
       "      <td>3.914634</td>\n",
       "      <td>4.088235</td>\n",
       "      <td>4.283019</td>\n",
       "      <td>26.000000</td>\n",
       "    </tr>\n",
       "    <tr>\n",
       "      <th>4</th>\n",
       "      <td>1135830.0</td>\n",
       "      <td>4.198708</td>\n",
       "      <td>0.400406</td>\n",
       "      <td>1.0</td>\n",
       "      <td>3.962963</td>\n",
       "      <td>4.149171</td>\n",
       "      <td>4.368421</td>\n",
       "      <td>35.500000</td>\n",
       "    </tr>\n",
       "    <tr>\n",
       "      <th>5</th>\n",
       "      <td>1987999.0</td>\n",
       "      <td>4.263922</td>\n",
       "      <td>0.430367</td>\n",
       "      <td>1.0</td>\n",
       "      <td>4.000000</td>\n",
       "      <td>4.207547</td>\n",
       "      <td>4.461538</td>\n",
       "      <td>46.500000</td>\n",
       "    </tr>\n",
       "  </tbody>\n",
       "</table>\n",
       "</div>"
      ],
      "text/plain": [
       "           count      mean       std  min       25%       50%       75%  \\\n",
       "stars                                                                     \n",
       "1       639848.0  4.099264  0.350434  1.0  3.887755  4.062500  4.262141   \n",
       "2       402393.0  4.112626  0.330334  1.0  3.912281  4.079208  4.267442   \n",
       "3       570819.0  4.125182  0.364668  1.0  3.914634  4.088235  4.283019   \n",
       "4      1135830.0  4.198708  0.400406  1.0  3.962963  4.149171  4.368421   \n",
       "5      1987999.0  4.263922  0.430367  1.0  4.000000  4.207547  4.461538   \n",
       "\n",
       "             max  \n",
       "stars             \n",
       "1      44.000000  \n",
       "2      17.333333  \n",
       "3      26.000000  \n",
       "4      35.500000  \n",
       "5      46.500000  "
      ]
     },
     "execution_count": 37,
     "metadata": {},
     "output_type": "execute_result"
    }
   ],
   "source": [
    "review_data[review_data['average word length']< 50].groupby('stars')['average word length'].describe()"
   ]
  },
  {
   "cell_type": "markdown",
   "metadata": {},
   "source": [
    "There is no correlation between average word length and ratings. If there was we'd expect to see a larger difference between means. (On a side note, I actually tried adding these as features and classifying, and the results were much worse)\n",
    "\n",
    "So because of the large amount of 5 ratings, we need to minimize our dataset so that each of the stars will have an equal number of reviews per rating inorder for our classifier to not have a bias towards 5 star ratings, which as we've seen, are the greatest amount of reviews."
   ]
  },
  {
   "cell_type": "code",
   "execution_count": 38,
   "metadata": {},
   "outputs": [],
   "source": [
    "#Here we create a function to balance our classes so that they are the same length\n",
    "def balance_classes(df, ys):\n",
    "    freqs = Counter(ys)\n",
    "    xs = df.text\n",
    "    # the least common class is the maximum number we want for all classes\n",
    "    max_allowable = freqs.most_common()[-1][1]\n",
    "    num_added = {clss: 0 for clss in freqs.keys()}\n",
    "    new_ys = []\n",
    "    new_xs = []\n",
    "    for i, y in enumerate(ys):\n",
    "        if num_added[y] < max_allowable:\n",
    "            new_ys.append(y)\n",
    "            new_xs.append(xs[i])\n",
    "            num_added[y] += 1\n",
    "    return new_xs, new_ys"
   ]
  },
  {
   "cell_type": "code",
   "execution_count": 39,
   "metadata": {},
   "outputs": [
    {
     "name": "stdout",
     "output_type": "stream",
     "text": [
      "Counter({1: 402396, 2: 402396, 3: 402396, 4: 402396, 5: 402396})\n"
     ]
    }
   ],
   "source": [
    "balanced_x, balanced_y = balance_classes(review_data, review_data.stars)\n",
    "print(Counter(balanced_y))"
   ]
  },
  {
   "cell_type": "markdown",
   "metadata": {},
   "source": [
    "Voila, now as you can see, each rating has an equal amount of reviews. Now lets extract more features, we split the data between %20 testing data and %80 training data, as these names imply, the training set is used to train our classifier with the data and the test data is to see how well our classifier preforms. We cannot train on all the data because our goal with using machine learning is to see how well our classifier preforms on unobserved data.\n",
    "\n",
    "\n",
    "### Feature Extraction\n",
    "\n",
    "Feature Extraction is when you extract features from a dataset in order to feed the machine learning algorithm with relevant values from the proper domain (Vectors as opposed to words)."
   ]
  },
  {
   "cell_type": "code",
   "execution_count": 40,
   "metadata": {},
   "outputs": [
    {
     "data": {
      "text/plain": [
       "[u'word', u'like', u'concentr', u'liabliti']"
      ]
     },
     "execution_count": 40,
     "metadata": {},
     "output_type": "execute_result"
    }
   ],
   "source": [
    "#split the data to train+test sets\n",
    "X_train, X_test, y_train, y_test = train_test_split(balanced_x, balanced_y, test_size=0.2, random_state=42)\n",
    "\n",
    "#Use a stemmer for all the words, and create a bag of words representation from the stemmed words.\n",
    "from nltk.stem.snowball import SnowballStemmer\n",
    "stemmer = SnowballStemmer('english',ignore_stopwords=False)\n",
    "\n",
    "list(map (stemmer.stem, ['words', 'liking', 'concentration', 'liablity']))"
   ]
  },
  {
   "cell_type": "markdown",
   "metadata": {},
   "source": [
    "We used the NLTK library in order to transform words into their stems or roots. An example of this would be converting the word \"liking\" to \"like\", this process is called stemming, and this minimizes our bag or words representation (less words to represent so our feature vector is smaller :) yayy!).\n",
    "\n",
    "Now we'll extend the count vectorizer of SKLearns library, which counts the appearences of words in reviews, to stems the word and apply a count."
   ]
  },
  {
   "cell_type": "code",
   "execution_count": 41,
   "metadata": {},
   "outputs": [],
   "source": [
    "# A decorator for the count vectorizer class. Adds functionality to stem the words before creating a vector \n",
    "class StemmedCountVectorizer(CountVectorizer):\n",
    "    def build_analyzer(self):\n",
    "        analyzer = super(StemmedCountVectorizer, self).build_analyzer()\n",
    "        return lambda doc: ([stemmer.stem(w) for w in analyzer(doc)])"
   ]
  },
  {
   "cell_type": "markdown",
   "metadata": {},
   "source": [
    "After count vectorizer, we will construct a simple pipeline which takes the review, transforms it using our stemmed count vectorizer, then preforms a TF-IDF transformation on the vector, then finally classifies with SVM, a machine learning algorithm.\n",
    "\n",
    "### Machine Learning\n",
    "\n",
    "Here we fit our model to the data using a Linear SVM machine learning algorithm."
   ]
  },
  {
   "cell_type": "code",
   "execution_count": 42,
   "metadata": {},
   "outputs": [
    {
     "data": {
      "text/plain": [
       "Pipeline(memory=None,\n",
       "     steps=[('vect', StemmedCountVectorizer(analyzer=u'word', binary=False, decode_error=u'strict',\n",
       "            dtype=<type 'numpy.int64'>, encoding=u'utf-8',\n",
       "            input=u'content', lowercase=True, max_df=1.0,\n",
       "            max_features=None, min_df=1, ngram_range=(1, 1),\n",
       "            preprocessor=No...ax_iter=1000,\n",
       "     multi_class='ovr', penalty='l2', random_state=None, tol=0.0001,\n",
       "     verbose=0))])"
      ]
     },
     "execution_count": 42,
     "metadata": {},
     "output_type": "execute_result"
    }
   ],
   "source": [
    "# creates our decorated vectorizer\n",
    "stemmed_count_vect = StemmedCountVectorizer()\n",
    "# creates a pipeline - taking text, vectorizing it, using tf-idf, and and finaly Linear SVM classifier\n",
    "text_mnb_stemmed = Pipeline([('vect', stemmed_count_vect), ('tfidf', TfidfTransformer()), \n",
    "                             ('clf-svm', LinearSVC())])\n",
    "#fitting our classifier to the data\n",
    "text_mnb_stemmed.fit(X_train, y_train)"
   ]
  },
  {
   "cell_type": "markdown",
   "metadata": {},
   "source": [
    "### Evaluation\n",
    "Here we evaluate by predicting on the test set, and comparing to the actual labels."
   ]
  },
  {
   "cell_type": "code",
   "execution_count": null,
   "metadata": {},
   "outputs": [
    {
     "data": {
      "text/plain": [
       "0.60291851807672048"
      ]
     },
     "execution_count": 43,
     "metadata": {},
     "output_type": "execute_result"
    }
   ],
   "source": [
    "predicted_mnb_stemmed = text_mnb_stemmed.predict(X_test)\n",
    "np.mean(predicted_mnb_stemmed == y_test)"
   ]
  },
  {
   "cell_type": "markdown",
   "metadata": {},
   "source": [
    "This is already a great result! Normally 60% accuracy is low but here we have 5 classes to predict, which means that randomly choosing a class would give us 20% accuracy, but lets try choosing different features, and see if we can do better!\n",
    "\n",
    "### Feature Extraction #2\n",
    "\n",
    "Maybe stemming wasn't a good choice for feature extraction... Now we'll use the same concept without stemming, but using two consecutive words in our bag of words representation as well, also referred to as bi-grams. This will increase our feature vector size, and helps relating words and giving more context to words in the review. This is done by setting the argument of our vectorizer, ngram_range, to (1,2). "
   ]
  },
  {
   "cell_type": "code",
   "execution_count": 49,
   "metadata": {},
   "outputs": [
    {
     "data": {
      "text/plain": [
       "(2011980, 14561257)"
      ]
     },
     "execution_count": 49,
     "metadata": {},
     "output_type": "execute_result"
    }
   ],
   "source": [
    "# This vectorizer breaks text into single words and bi-grams\n",
    "# and then calculates the TF-IDF representation\n",
    "vectorizer = TfidfVectorizer(ngram_range=(1,2))\n",
    "vectors = vectorizer.fit_transform(balanced_x)\n",
    "vectors.shape"
   ]
  },
  {
   "cell_type": "markdown",
   "metadata": {},
   "source": [
    "Wow thats a huge vector.... Each feature is as big as my hopes and dreams before I took CMSC 351. Lets split the data set again, and run our classifier on the training data."
   ]
  },
  {
   "cell_type": "markdown",
   "metadata": {},
   "source": [
    "### Machine Learning #2"
   ]
  },
  {
   "cell_type": "code",
   "execution_count": 50,
   "metadata": {},
   "outputs": [
    {
     "data": {
      "text/plain": [
       "LinearSVC(C=1.0, class_weight=None, dual=True, fit_intercept=True,\n",
       "     intercept_scaling=1, loss='squared_hinge', max_iter=1000,\n",
       "     multi_class='ovr', penalty='l2', random_state=None, tol=0.0001,\n",
       "     verbose=0)"
      ]
     },
     "execution_count": 50,
     "metadata": {},
     "output_type": "execute_result"
    }
   ],
   "source": [
    "X_train, X_test, y_train, y_test = train_test_split(vectors, balanced_y, test_size=0.2, random_state=42)\n",
    "\n",
    "# initialise the SVM classifier\n",
    "classifier = LinearSVC()\n",
    "\n",
    "# train the classifier\n",
    "classifier.fit(X_train, y_train)"
   ]
  },
  {
   "cell_type": "markdown",
   "metadata": {},
   "source": [
    "### Evaluation #2\n",
    "Lets sample our results and see how we do...\n",
    "We take 10 samples, make a prediction using our model and compare the results to the actual labels."
   ]
  },
  {
   "cell_type": "code",
   "execution_count": 51,
   "metadata": {},
   "outputs": [
    {
     "name": "stdout",
     "output_type": "stream",
     "text": [
      "[5, 5, 4, 4, 3, 2, 1, 2, 2, 2]\n",
      "[5, 5, 4, 4, 3, 2, 1, 2, 2, 1]\n"
     ]
    }
   ],
   "source": [
    "preds = classifier.predict(X_test)\n",
    "print(list(preds[:10]))\n",
    "print(y_test[:10])"
   ]
  },
  {
   "cell_type": "markdown",
   "metadata": {},
   "source": [
    "The first line is our predictions, and the second line is the actual labels. We got 9/10 matching! Not too shabby.... \n",
    "Now lets evaluate our classifier, we check how our classifier preforms on the whole test set and take the percentage of correct predictions. "
   ]
  },
  {
   "cell_type": "code",
   "execution_count": 52,
   "metadata": {},
   "outputs": [
    {
     "name": "stdout",
     "output_type": "stream",
     "text": [
      "0.627970953986\n"
     ]
    }
   ],
   "source": [
    "from sklearn.metrics import accuracy_score\n",
    "print(accuracy_score(y_test, preds))"
   ]
  },
  {
   "cell_type": "markdown",
   "metadata": {},
   "source": [
    "Wow, 63 percent, even better than our earlier classifier!!\n",
    "\n",
    "Accuracy is a crude metric, there are of course finer grained evaluation methods. It’s likely that some classes are ‘easier’ to predict than others, so we want to look at how well the classifier can predict each class (for example, only 5-star reviews) individually. Looking at results on a per-class level means that there are two different ways that the classifier could be wrong. For a given review and a given class, the classifier might have a false positive or a false negative classification. If we take 5-star reviews as an example, a false positive occurs when the classifier predicted that a review was a 5-star review when in fact it wasn’t. A false negative occurs when the classifier predicted a review wasn’t a 5-star review, when in fact it was.\n",
    "\n",
    "\n",
    "A classifier that could predict 5-star reviews with high precision would almost never predict that other reviews were 5-star reviews, but it might ‘miss’ many real 5-star reviews and classify them into other classes. A classifier with high recall for 5-star reviews would hardly ever predict that a 5-star review was something else, but it might predict that many other reviews are 5-star reviews. Lets look at how our model does given these metrics."
   ]
  },
  {
   "cell_type": "code",
   "execution_count": 53,
   "metadata": {},
   "outputs": [
    {
     "name": "stdout",
     "output_type": "stream",
     "text": [
      "             precision    recall  f1-score   support\n",
      "\n",
      "          1       0.73      0.79      0.76     80315\n",
      "          2       0.56      0.53      0.55     80558\n",
      "          3       0.55      0.52      0.53     80617\n",
      "          4       0.56      0.54      0.55     80485\n",
      "          5       0.72      0.76      0.74     80421\n",
      "\n",
      "avg / total       0.62      0.63      0.63    402396\n",
      "\n"
     ]
    }
   ],
   "source": [
    "from sklearn.metrics import classification_report\n",
    "print(classification_report(y_test, preds))"
   ]
  },
  {
   "cell_type": "markdown",
   "metadata": {},
   "source": [
    "<img src=\"recal.png\" width=\"300\" height=\"50\">\n",
    "\n",
    "<center>credit: Wikipedia \"https://en.wikipedia.org/wiki/Precision_and_recall#Precision\" </center>"
   ]
  },
  {
   "cell_type": "markdown",
   "metadata": {},
   "source": [
    "\n",
    "In the binary case(in our case this is evaluated for each label as a separate binary case):<br>\n",
    "<b>_tp_</b> is <b>True Positive</b> - instances that are True and the classifier predicted True<br>\n",
    "<b>_fp_</b> is <b>False Positive</b> - all the instances that are False and the classifier predicted True<br>\n",
    "<b>_fn_</b> is <b>False Negative</b> - all the instances that are False and the classifier predicted False.<br>\n",
    "\n",
    "The <b>_F-1_</b> score measures the combination of both recall and precision in a single metric, and we would like our classifier to strike a balance between precision and recall."
   ]
  },
  {
   "cell_type": "markdown",
   "metadata": {},
   "source": [
    "We can see that 1 and 5 ratings are the easiest to predict and we get higher <b>_F-1_</b> scores for them, the neutral ratings are harder to predict and as such, have lower <b>_F-1_</b> scores "
   ]
  },
  {
   "cell_type": "markdown",
   "metadata": {},
   "source": [
    "## Insight & Policy Decision"
   ]
  },
  {
   "cell_type": "markdown",
   "metadata": {},
   "source": [
    "Well we've had a great time collecting, processing, exploring, visualizing, hypothesizing, and testing our data, but all good things come to an end, and now we too come to our conclusion. In this final step we gather all our results from the previous steps and use those results to make a certain decision or gain some valuable insight."
   ]
  },
  {
   "cell_type": "markdown",
   "metadata": {},
   "source": [
    "<img src=\"six.png\">"
   ]
  },
  {
   "cell_type": "markdown",
   "metadata": {},
   "source": [
    "### Our Conclusion\n",
    "\n",
    "To be honest, not much, but this is a part of data science! We started off with a real neat dataset, we explored the data to try to find interesting correlations between attributes. We had a hypothesis (Does a user with alot of fans rate higher?), we tested the hypothesis, and found that our hypothesis was inconclusive and rejected our hypothesis, it seems to be that the number of Yelp fans is really correlated to the number of friends a Yelp user has. We found this to be underwhelming. Next, we decided to delve into the reviews themselves and use more advanced data science tools to analyze the text. \n",
    "\n",
    "First we defined our classification problem, <b>Can we predict the rating of a user given only the users review?</b> We started off looking for features that could help us classify the reviews. We saw that the length, the number of words, and the average length of words, all don't support our text classification needs. Then, we tried two different feature extraction methods, the first by stemming the words then using a TF-IDF bag of words represntation as our feature vector, the second using a TF-IDF bag of words representation with both unigrams and bigrams. For both represntations we used a linear SVM machine learning algorithm, with which we suceeded in predicting ratings based only on the reviews with accuracy of around 60% on our first attempt. On our second attempt we saw that predicting 5 star ratings and 1 star ratings were much easier than 2,3, and 4 ratings and we succeeded on this attempt with %62 accuracy!! Look out world, there are some new data scientists on the block!! \n",
    "\n",
    "\n",
    "<img src=\"borat.png\">\n",
    "\n",
    "\n",
    "<b>But none of this would be possible without Dr. John Dickerson and Dr. Amol Deshpande, thanks again for a great semester!!</b>"
   ]
  },
  {
   "cell_type": "markdown",
   "metadata": {},
   "source": [
    "## Credits\n",
    "\n",
    "The Data: Yelp https://www.yelp.com/dataset<br>\n",
    "The cool Data Lifecycle pictures: Dr. John Dickerson and Dr. Amol Deshpande<br>\n",
    "Memes: Google\n"
   ]
  },
  {
   "cell_type": "code",
   "execution_count": null,
   "metadata": {},
   "outputs": [],
   "source": []
  }
 ],
 "metadata": {
  "kernelspec": {
   "display_name": "Python 2",
   "language": "python",
   "name": "python2"
  },
  "language_info": {
   "codemirror_mode": {
    "name": "ipython",
    "version": 2
   },
   "file_extension": ".py",
   "mimetype": "text/x-python",
   "name": "python",
   "nbconvert_exporter": "python",
   "pygments_lexer": "ipython2",
   "version": "2.7.13"
  }
 },
 "nbformat": 4,
 "nbformat_minor": 2
}
